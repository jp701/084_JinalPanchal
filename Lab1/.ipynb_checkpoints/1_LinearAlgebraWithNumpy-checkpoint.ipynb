{
 "cells": [
  {
   "cell_type": "code",
   "execution_count": 1,
   "metadata": {
    "colab": {
     "base_uri": "https://localhost:8080/"
    },
    "id": "eZzmjIupuzI5",
    "outputId": "a3a43088-287a-4053-b216-a5bcc46f973c"
   },
   "outputs": [
    {
     "name": "stdout",
     "output_type": "stream",
     "text": [
      "3 x 2 matrix : \n",
      " [[1 2]\n",
      " [3 4]\n",
      " [5 6]]\n",
      "\n",
      " 2 x 3 matrix : \n",
      " [[1 2 4]\n",
      " [4 5 6]]\n"
     ]
    }
   ],
   "source": [
    "import numpy as np\n",
    "import pandas as pd\n",
    "\n",
    "matrix3x2 = np.array([[1, 2], [3, 4], [5, 6]])\n",
    "matrix2x3 = np.array([[1, 2, 4], [4, 5, 6]])\n",
    "\n",
    "print('3 x 2 matrix : \\n', matrix3x2)\n",
    "print('\\n 2 x 3 matrix : \\n', matrix2x3)"
   ]
  },
  {
   "cell_type": "code",
   "execution_count": 2,
   "metadata": {
    "colab": {
     "base_uri": "https://localhost:8080/"
    },
    "id": "y_vFGpTCwqgl",
    "outputId": "3bb45aae-af41-48aa-f92c-8e33cc029fe6"
   },
   "outputs": [
    {
     "name": "stdout",
     "output_type": "stream",
     "text": [
      "[[0.41833146 0.95937956 0.92232453 0.81615677]\n",
      " [0.87138432 0.96103705 0.4690279  0.93118765]\n",
      " [0.86284706 0.49282324 0.91082495 0.54316448]]\n"
     ]
    }
   ],
   "source": [
    "random_matrix = np.random.rand(3, 4)\n",
    "print(random_matrix)"
   ]
  },
  {
   "cell_type": "code",
   "execution_count": 3,
   "metadata": {
    "colab": {
     "base_uri": "https://localhost:8080/"
    },
    "id": "aXc-DdSc1FIW",
    "outputId": "8110bec9-74e0-4cb6-aacc-55942a7bcf35"
   },
   "outputs": [
    {
     "name": "stdout",
     "output_type": "stream",
     "text": [
      "[[ 9 12 16]\n",
      " [19 26 36]\n",
      " [29 40 56]]\n"
     ]
    }
   ],
   "source": [
    "# matrix multiplication\n",
    "matmul = np.dot(matrix3x2, matrix2x3)\n",
    "print(matmul)"
   ]
  },
  {
   "cell_type": "code",
   "execution_count": 4,
   "metadata": {
    "colab": {
     "base_uri": "https://localhost:8080/"
    },
    "id": "vS720pKU1jwS",
    "outputId": "9664d541-17ca-4d82-ac70-8e9dcf7228db"
   },
   "outputs": [
    {
     "name": "stdout",
     "output_type": "stream",
     "text": [
      "Element wise multiplication : \n",
      " [[9, 12, 16], [19, 26, 36], [29, 40, 56]]\n"
     ]
    }
   ],
   "source": [
    "# elemet wise matrix multiplication\n",
    "result = [[0 for x in range(len(matrix3x2))] for y in range(len(matrix2x3[0]))]\n",
    "\n",
    "for i in range(len(matrix3x2)): \n",
    "  for j in range(len(matrix2x3[0])): \n",
    "    for k in range(len(matrix2x3)): \n",
    "      result[i][j] += matrix3x2[i][k] * matrix2x3[k][j]\n",
    " \n",
    "print('Element wise multiplication : \\n', result)"
   ]
  },
  {
   "cell_type": "code",
   "execution_count": 5,
   "metadata": {
    "colab": {
     "base_uri": "https://localhost:8080/"
    },
    "id": "1qUUvFfC6Rgn",
    "outputId": "ad589d3f-8b5a-431b-c515-bf8503ba5425"
   },
   "outputs": [
    {
     "name": "stdout",
     "output_type": "stream",
     "text": [
      "3.5\n"
     ]
    }
   ],
   "source": [
    "mean = np.mean(matrix3x2)\n",
    "print(mean)"
   ]
  },
  {
   "cell_type": "code",
   "execution_count": 11,
   "metadata": {
    "id": "i_dClDLp8DxX"
   },
   "outputs": [],
   "source": [
    "data = pd.read_csv('Datasets/mtcars.csv')"
   ]
  },
  {
   "cell_type": "code",
   "execution_count": 13,
   "metadata": {
    "colab": {
     "base_uri": "https://localhost:8080/"
    },
    "id": "HZ2zXizbAsgP",
    "outputId": "f3b23da0-c798-42a7-cb56-720b44c4c51d"
   },
   "outputs": [
    {
     "name": "stdout",
     "output_type": "stream",
     "text": [
      "        mpg     cyl        disp       hp      drat       wt     qsec      vs  \\\n",
      "0  0.909375 -0.1875  -70.721875 -36.6875  0.303437 -0.59725 -1.38875 -0.4375   \n",
      "1  0.909375 -0.1875  -70.721875 -36.6875  0.303437 -0.34225 -0.82875 -0.4375   \n",
      "2  2.709375 -2.1875 -122.721875 -53.6875  0.253437 -0.89725  0.76125  0.5625   \n",
      "3  1.309375 -0.1875   27.278125 -36.6875 -0.516563 -0.00225  1.59125  0.5625   \n",
      "4 -1.390625  1.8125  129.278125  28.3125 -0.446563  0.22275 -0.82875 -0.4375   \n",
      "\n",
      "        am    gear    carb  \n",
      "0  0.59375  0.3125  1.1875  \n",
      "1  0.59375  0.3125  1.1875  \n",
      "2  0.59375  0.3125 -1.8125  \n",
      "3 -0.40625 -0.6875 -1.8125  \n",
      "4 -0.40625 -0.6875 -0.8125  \n"
     ]
    }
   ],
   "source": [
    "del data['model']\n",
    "\n",
    "meancenter = data.apply(lambda e: e - e.mean())\n",
    "print(meancenter.head())"
   ]
  },
  {
   "cell_type": "code",
   "execution_count": null,
   "metadata": {},
   "outputs": [],
   "source": []
  }
 ],
 "metadata": {
  "colab": {
   "collapsed_sections": [],
   "name": "090_Lab1_LinearAlgebraWithNumpy.ipynb",
   "provenance": []
  },
  "kernelspec": {
   "display_name": "Python 3",
   "language": "python",
   "name": "python3"
  },
  "language_info": {
   "codemirror_mode": {
    "name": "ipython",
    "version": 3
   },
   "file_extension": ".py",
   "mimetype": "text/x-python",
   "name": "python",
   "nbconvert_exporter": "python",
   "pygments_lexer": "ipython3",
   "version": "3.6.9"
  }
 },
 "nbformat": 4,
 "nbformat_minor": 1
}
