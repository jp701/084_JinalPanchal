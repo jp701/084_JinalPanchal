{
 "cells": [
  {
   "cell_type": "code",
   "execution_count": 58,
   "metadata": {},
   "outputs": [
    {
     "name": "stdout",
     "output_type": "stream",
     "text": [
      "\u001b[33mWARNING: The directory '/home/jinal/.cache/pip' or its parent directory is not owned or is not writable by the current user. The cache has been disabled. Check the permissions and owner of that directory. If executing pip with sudo, you should use sudo's -H flag.\u001b[0m\n",
      "Collecting seaborn\n",
      "  Downloading seaborn-0.11.2-py3-none-any.whl (292 kB)\n",
      "\u001b[K     |████████████████████████████████| 292 kB 593 kB/s eta 0:00:01\n",
      "\u001b[?25hRequirement already satisfied: scipy>=1.0 in /usr/local/lib/python3.6/dist-packages (from seaborn) (1.5.4)\n",
      "Requirement already satisfied: pandas>=0.23 in /usr/local/lib/python3.6/dist-packages (from seaborn) (1.1.5)\n",
      "Requirement already satisfied: matplotlib>=2.2 in /usr/local/lib/python3.6/dist-packages (from seaborn) (3.3.4)\n",
      "Requirement already satisfied: numpy>=1.15 in /home/jinal/.local/lib/python3.6/site-packages (from seaborn) (1.19.4)\n",
      "Requirement already satisfied: pyparsing!=2.0.4,!=2.1.2,!=2.1.6,>=2.0.3 in /usr/local/lib/python3.6/dist-packages (from matplotlib>=2.2->seaborn) (2.4.7)\n",
      "Requirement already satisfied: kiwisolver>=1.0.1 in /usr/local/lib/python3.6/dist-packages (from matplotlib>=2.2->seaborn) (1.3.1)\n",
      "Requirement already satisfied: cycler>=0.10 in /usr/local/lib/python3.6/dist-packages (from matplotlib>=2.2->seaborn) (0.10.0)\n",
      "Requirement already satisfied: pillow>=6.2.0 in /usr/local/lib/python3.6/dist-packages (from matplotlib>=2.2->seaborn) (8.1.0)\n",
      "Requirement already satisfied: python-dateutil>=2.1 in /usr/local/lib/python3.6/dist-packages (from matplotlib>=2.2->seaborn) (2.8.1)\n",
      "Requirement already satisfied: six in /usr/local/lib/python3.6/dist-packages (from cycler>=0.10->matplotlib>=2.2->seaborn) (1.15.0)\n",
      "Requirement already satisfied: pytz>=2017.2 in /usr/lib/python3/dist-packages (from pandas>=0.23->seaborn) (2018.3)\n",
      "Installing collected packages: seaborn\n",
      "Successfully installed seaborn-0.11.2\n",
      "\u001b[33mWARNING: Running pip as the 'root' user can result in broken permissions and conflicting behaviour with the system package manager. It is recommended to use a virtual environment instead: https://pip.pypa.io/warnings/venv\u001b[0m\n",
      "\u001b[33mWARNING: You are using pip version 21.1.3; however, version 21.2.4 is available.\n",
      "You should consider upgrading via the '/usr/bin/python3 -m pip install --upgrade pip' command.\u001b[0m\n"
     ]
    }
   ],
   "source": [
    "!pip3 install seaborn"
   ]
  },
  {
   "cell_type": "code",
   "execution_count": 35,
   "metadata": {},
   "outputs": [],
   "source": [
    "import numpy as np \n",
    "import pandas as pd\n",
    "from sklearn.impute import SimpleImputer \n",
    "from sklearn.preprocessing import OneHotEncoder\n",
    "import seaborn as sns"
   ]
  },
  {
   "cell_type": "code",
   "execution_count": 84,
   "metadata": {},
   "outputs": [
    {
     "name": "stdout",
     "output_type": "stream",
     "text": [
      "\n",
      "Data :\n",
      "       Unnamed: 0  Price   Age       KM FuelType     HP  MetColor  Automatic  \\\n",
      "0              0  13500  23.0  46986.0   Diesel   90.0       1.0          0   \n",
      "1              1  13750  23.0  72937.0   Diesel   90.0       1.0          0   \n",
      "2              2  13950  24.0  41711.0   Diesel   90.0       NaN          0   \n",
      "3              3  14950  26.0  48000.0   Diesel   90.0       0.0          0   \n",
      "4              4  13750  30.0  38500.0   Diesel   90.0       0.0          0   \n",
      "...          ...    ...   ...      ...      ...    ...       ...        ...   \n",
      "1431        1431   7500   NaN  20544.0   Petrol   86.0       1.0          0   \n",
      "1432        1432  10845  72.0      NaN   Petrol   86.0       0.0          0   \n",
      "1433        1433   8500   NaN  17016.0   Petrol   86.0       0.0          0   \n",
      "1434        1434   7250  70.0      NaN      NaN   86.0       1.0          0   \n",
      "1435        1435   6950  76.0      1.0   Petrol  110.0       0.0          0   \n",
      "\n",
      "        CC  Doors  Weight  \n",
      "0     2000  three    1165  \n",
      "1     2000      3    1165  \n",
      "2     2000      3    1165  \n",
      "3     2000      3    1165  \n",
      "4     2000      3    1170  \n",
      "...    ...    ...     ...  \n",
      "1431  1300      3    1025  \n",
      "1432  1300      3    1015  \n",
      "1433  1300      3    1015  \n",
      "1434  1300      3    1015  \n",
      "1435  1600      5    1114  \n",
      "\n",
      "[1436 rows x 11 columns]\n",
      "\n",
      "Data statistics\n",
      "         Unnamed: 0         Price          Age             KM           HP  \\\n",
      "count  1436.000000   1436.000000  1336.000000    1421.000000  1430.000000   \n",
      "mean    717.500000  10730.824513    55.672156   68647.239972   101.478322   \n",
      "std     414.681806   3626.964585    18.589804   37333.023589    14.768255   \n",
      "min       0.000000   4350.000000     1.000000       1.000000    69.000000   \n",
      "25%     358.750000   8450.000000    43.000000   43210.000000    90.000000   \n",
      "50%     717.500000   9900.000000    60.000000   63634.000000   110.000000   \n",
      "75%    1076.250000  11950.000000    70.000000   87000.000000   110.000000   \n",
      "max    1435.000000  32500.000000    80.000000  243000.000000   192.000000   \n",
      "\n",
      "          MetColor    Automatic           CC      Weight  \n",
      "count  1286.000000  1436.000000  1436.000000  1436.00000  \n",
      "mean      0.674961     0.055710  1566.827994  1072.45961  \n",
      "std       0.468572     0.229441   187.182436    52.64112  \n",
      "min       0.000000     0.000000  1300.000000  1000.00000  \n",
      "25%       0.000000     0.000000  1400.000000  1040.00000  \n",
      "50%       1.000000     0.000000  1600.000000  1070.00000  \n",
      "75%       1.000000     0.000000  1600.000000  1085.00000  \n",
      "max       1.000000     1.000000  2000.000000  1615.00000  \n"
     ]
    }
   ],
   "source": [
    "datasets = pd.read_csv('Datasets/Exercise-CarData.csv',na_values = [\"??\",\"????\"]) \n",
    "print(\"\\nData :\\n\",datasets)\n",
    "print(\"\\nData statistics\\n\",datasets.describe())"
   ]
  },
  {
   "cell_type": "code",
   "execution_count": 85,
   "metadata": {},
   "outputs": [
    {
     "name": "stdout",
     "output_type": "stream",
     "text": [
      "\n",
      "\n",
      "Input : \n",
      " [[0 13500 23.0 ... 0 2000 'three']\n",
      " [1 13750 23.0 ... 0 2000 '3']\n",
      " [2 13950 24.0 ... 0 2000 '3']\n",
      " ...\n",
      " [1433 8500 nan ... 0 1300 '3']\n",
      " [1434 7250 70.0 ... 0 1300 '3']\n",
      " [1435 6950 76.0 ... 0 1600 '5']]\n",
      "\n",
      "\n",
      "Output: \n",
      " [1165 1165 1165 ... 1015 1015 1114]\n"
     ]
    }
   ],
   "source": [
    "# All rows, all columns except last \n",
    "X = datasets.iloc[:, :-1].values \n",
    "  \n",
    "# Only last column  \n",
    "Y = datasets.iloc[:, -1].values \n",
    "\n",
    "print(\"\\n\\nInput : \\n\", X) \n",
    "print(\"\\n\\nOutput: \\n\", Y)"
   ]
  },
  {
   "cell_type": "code",
   "execution_count": 86,
   "metadata": {},
   "outputs": [],
   "source": [
    "map_doors_count= {\"one\":1,\"two\":2,\"three\":3,\"four\":4,\"five\":5}\n",
    "#datasets['Doors']= pd.to_numeric(datasets['Doors'])\n",
    "datasets['Doors'] =datasets[\"Doors\"].replace(map_doors_count)"
   ]
  },
  {
   "cell_type": "code",
   "execution_count": 87,
   "metadata": {},
   "outputs": [
    {
     "name": "stdout",
     "output_type": "stream",
     "text": [
      "      Unnamed: 0  Price   Age       KM     HP  MetColor  Automatic    CC  \\\n",
      "0              0  13500  23.0  46986.0   90.0       1.0          0  2000   \n",
      "1              1  13750  23.0  72937.0   90.0       1.0          0  2000   \n",
      "2              2  13950  24.0  41711.0   90.0       NaN          0  2000   \n",
      "3              3  14950  26.0  48000.0   90.0       0.0          0  2000   \n",
      "4              4  13750  30.0  38500.0   90.0       0.0          0  2000   \n",
      "...          ...    ...   ...      ...    ...       ...        ...   ...   \n",
      "1431        1431   7500   NaN  20544.0   86.0       1.0          0  1300   \n",
      "1432        1432  10845  72.0      NaN   86.0       0.0          0  1300   \n",
      "1433        1433   8500   NaN  17016.0   86.0       0.0          0  1300   \n",
      "1434        1434   7250  70.0      NaN   86.0       1.0          0  1300   \n",
      "1435        1435   6950  76.0      1.0  110.0       0.0          0  1600   \n",
      "\n",
      "     Doors  Weight  FuelType_CNG  FuelType_Diesel  FuelType_Petrol  \n",
      "0        3    1165             0                1                0  \n",
      "1        3    1165             0                1                0  \n",
      "2        3    1165             0                1                0  \n",
      "3        3    1165             0                1                0  \n",
      "4        3    1170             0                1                0  \n",
      "...    ...     ...           ...              ...              ...  \n",
      "1431     3    1025             0                0                1  \n",
      "1432     3    1015             0                0                1  \n",
      "1433     3    1015             0                0                1  \n",
      "1434     3    1015             0                0                0  \n",
      "1435     5    1114             0                0                1  \n",
      "\n",
      "[1436 rows x 13 columns]\n"
     ]
    }
   ],
   "source": [
    "datasets = pd.get_dummies(datasets,columns=['FuelType'])\n",
    "print(datasets)"
   ]
  },
  {
   "cell_type": "code",
   "execution_count": 88,
   "metadata": {},
   "outputs": [
    {
     "name": "stdout",
     "output_type": "stream",
     "text": [
      "\n",
      "New Data :\n",
      "       Unnamed: 0  Price   Age       KM     HP  MetColor  Automatic    CC  \\\n",
      "0              0  13500  23.0  46986.0   90.0       1.0          0  2000   \n",
      "1              1  13750  23.0  72937.0   90.0       1.0          0  2000   \n",
      "2              2  13950  24.0  41711.0   90.0       NaN          0  2000   \n",
      "3              3  14950  26.0  48000.0   90.0       0.0          0  2000   \n",
      "4              4  13750  30.0  38500.0   90.0       0.0          0  2000   \n",
      "...          ...    ...   ...      ...    ...       ...        ...   ...   \n",
      "1431        1431   7500   NaN  20544.0   86.0       1.0          0  1300   \n",
      "1432        1432  10845  72.0      NaN   86.0       0.0          0  1300   \n",
      "1433        1433   8500   NaN  17016.0   86.0       0.0          0  1300   \n",
      "1434        1434   7250  70.0      NaN   86.0       1.0          0  1300   \n",
      "1435        1435   6950  76.0      1.0  110.0       0.0          0  1600   \n",
      "\n",
      "     Doors  Weight  FuelType_CNG  FuelType_Diesel  FuelType_Petrol  \n",
      "0        3    1165             0                1                0  \n",
      "1        3    1165             0                1                0  \n",
      "2        3    1165             0                1                0  \n",
      "3        3    1165             0                1                0  \n",
      "4        3    1170             0                1                0  \n",
      "...    ...     ...           ...              ...              ...  \n",
      "1431     3    1025             0                0                1  \n",
      "1432     3    1015             0                0                1  \n",
      "1433     3    1015             0                0                1  \n",
      "1434     3    1015             0                0                0  \n",
      "1435     5    1114             0                0                1  \n",
      "\n",
      "[1436 rows x 13 columns]\n"
     ]
    }
   ],
   "source": [
    "# Drop the row having all null values\n",
    "datasets.dropna(how='all',inplace=True)\n",
    "print(\"\\nNew Data :\\n\",datasets)"
   ]
  },
  {
   "cell_type": "code",
   "execution_count": 126,
   "metadata": {},
   "outputs": [
    {
     "name": "stdout",
     "output_type": "stream",
     "text": [
      "\n",
      "\n",
      "New Input : \n",
      "\n",
      " [[0.0 13500.0 23.0 ... 2000.0 3.0 1165.0]\n",
      " [1.0 13750.0 23.0 ... 2000.0 3.0 1165.0]\n",
      " [2.0 13950.0 24.0 ... 2000.0 3.0 1165.0]\n",
      " ...\n",
      " [1433.0 8500.0 55.67215568862275 ... 1300.0 3.0 1015.0]\n",
      " [1434.0 7250.0 70.0 ... 1300.0 3.0 1015.0]\n",
      " [1435.0 6950.0 76.0 ... 1600.0 5.0 1114.0]]\n",
      "\n",
      "\n",
      "Output: \n",
      "\n",
      " [[0 1 0]\n",
      " [0 1 0]\n",
      " [0 1 0]\n",
      " ...\n",
      " [0 0 1]\n",
      " [0 0 0]\n",
      " [0 0 1]]\n"
     ]
    }
   ],
   "source": [
    "# All rows, all columns except last \n",
    "new_X = datasets.iloc[:, :-3].values\n",
    "  \n",
    "# Only last column  \n",
    "new_Y = datasets.iloc[:, -3:].values\n",
    "\n",
    "\n",
    "# Using Imputer function to replace NaN values with mean of that parameter value \n",
    "imputer = SimpleImputer(missing_values = np.nan,strategy = \"mean\")\n",
    "\n",
    "# Fitting the data, function learns the stats \n",
    "imputer = imputer.fit(new_X[:,:]) \n",
    "  \n",
    "# fit_transform() will execute those stats on the input ie. X[:, :] \n",
    "new_X[:, :] = imputer.transform(new_X[:, :]) \n",
    "  \n",
    "# filling the missing value with mean \n",
    "print(\"\\n\\nNew Input: \\n\\n\", new_X)\n",
    "print(\"\\n\\nOutput: \\n\\n\",new_Y)\n"
   ]
  },
  {
   "cell_type": "code",
   "execution_count": 127,
   "metadata": {},
   "outputs": [
    {
     "name": "stdout",
     "output_type": "stream",
     "text": [
      "      Unnamed: 0  Price  Age     KM   HP  MetColor  Automatic    CC  Doors  \\\n",
      "0              0  13500   23  46986   90         1          0  2000      3   \n",
      "1              1  13750   23  72937   90         1          0  2000      3   \n",
      "2              2  13950   24  41711   90         0          0  2000      3   \n",
      "3              3  14950   26  48000   90         0          0  2000      3   \n",
      "4              4  13750   30  38500   90         0          0  2000      3   \n",
      "...          ...    ...  ...    ...  ...       ...        ...   ...    ...   \n",
      "1431        1431   7500   55  20544   86         1          0  1300      3   \n",
      "1432        1432  10845   72  68647   86         0          0  1300      3   \n",
      "1433        1433   8500   55  17016   86         0          0  1300      3   \n",
      "1434        1434   7250   70  68647   86         1          0  1300      3   \n",
      "1435        1435   6950   76      1  110         0          0  1600      5   \n",
      "\n",
      "      Weight  \n",
      "0       1165  \n",
      "1       1165  \n",
      "2       1165  \n",
      "3       1165  \n",
      "4       1170  \n",
      "...      ...  \n",
      "1431    1025  \n",
      "1432    1015  \n",
      "1433    1015  \n",
      "1434    1015  \n",
      "1435    1114  \n",
      "\n",
      "[1436 rows x 10 columns]\n",
      "<class 'pandas.core.frame.DataFrame'>\n",
      "RangeIndex: 1436 entries, 0 to 1435\n",
      "Data columns (total 10 columns):\n",
      " #   Column      Non-Null Count  Dtype\n",
      "---  ------      --------------  -----\n",
      " 0   Unnamed: 0  1436 non-null   int32\n",
      " 1   Price       1436 non-null   int32\n",
      " 2   Age         1436 non-null   int32\n",
      " 3   KM          1436 non-null   int32\n",
      " 4   HP          1436 non-null   int32\n",
      " 5   MetColor    1436 non-null   int32\n",
      " 6   Automatic   1436 non-null   int32\n",
      " 7   CC          1436 non-null   int32\n",
      " 8   Doors       1436 non-null   int32\n",
      " 9   Weight      1436 non-null   int32\n",
      "dtypes: int32(10)\n",
      "memory usage: 56.2 KB\n"
     ]
    }
   ],
   "source": [
    "data= pd.DataFrame(new_X, columns=datasets.iloc[:,:-3].columns, dtype=int)\n",
    "print(data)\n",
    "data.info()"
   ]
  },
  {
   "cell_type": "code",
   "execution_count": 128,
   "metadata": {},
   "outputs": [
    {
     "data": {
      "text/html": [
       "<div>\n",
       "<style scoped>\n",
       "    .dataframe tbody tr th:only-of-type {\n",
       "        vertical-align: middle;\n",
       "    }\n",
       "\n",
       "    .dataframe tbody tr th {\n",
       "        vertical-align: top;\n",
       "    }\n",
       "\n",
       "    .dataframe thead th {\n",
       "        text-align: right;\n",
       "    }\n",
       "</style>\n",
       "<table border=\"1\" class=\"dataframe\">\n",
       "  <thead>\n",
       "    <tr style=\"text-align: right;\">\n",
       "      <th></th>\n",
       "      <th>Unnamed: 0</th>\n",
       "      <th>Price</th>\n",
       "      <th>Age</th>\n",
       "      <th>KM</th>\n",
       "      <th>HP</th>\n",
       "      <th>MetColor</th>\n",
       "      <th>Automatic</th>\n",
       "      <th>CC</th>\n",
       "      <th>Doors</th>\n",
       "      <th>Weight</th>\n",
       "    </tr>\n",
       "  </thead>\n",
       "  <tbody>\n",
       "    <tr>\n",
       "      <th>Unnamed: 0</th>\n",
       "      <td>1.000000</td>\n",
       "      <td>-0.738289</td>\n",
       "      <td>0.872340</td>\n",
       "      <td>0.276041</td>\n",
       "      <td>-0.108124</td>\n",
       "      <td>-0.073913</td>\n",
       "      <td>0.066299</td>\n",
       "      <td>-0.184490</td>\n",
       "      <td>-0.130268</td>\n",
       "      <td>-0.414577</td>\n",
       "    </tr>\n",
       "    <tr>\n",
       "      <th>Price</th>\n",
       "      <td>-0.738289</td>\n",
       "      <td>1.000000</td>\n",
       "      <td>-0.844883</td>\n",
       "      <td>-0.565016</td>\n",
       "      <td>0.308321</td>\n",
       "      <td>0.106353</td>\n",
       "      <td>0.033081</td>\n",
       "      <td>0.165067</td>\n",
       "      <td>0.185326</td>\n",
       "      <td>0.581198</td>\n",
       "    </tr>\n",
       "    <tr>\n",
       "      <th>Age</th>\n",
       "      <td>0.872340</td>\n",
       "      <td>-0.844883</td>\n",
       "      <td>1.000000</td>\n",
       "      <td>0.495402</td>\n",
       "      <td>-0.152661</td>\n",
       "      <td>-0.091196</td>\n",
       "      <td>0.030653</td>\n",
       "      <td>-0.116000</td>\n",
       "      <td>-0.151549</td>\n",
       "      <td>-0.441797</td>\n",
       "    </tr>\n",
       "    <tr>\n",
       "      <th>KM</th>\n",
       "      <td>0.276041</td>\n",
       "      <td>-0.565016</td>\n",
       "      <td>0.495402</td>\n",
       "      <td>1.000000</td>\n",
       "      <td>-0.333029</td>\n",
       "      <td>-0.076956</td>\n",
       "      <td>-0.080743</td>\n",
       "      <td>0.296281</td>\n",
       "      <td>-0.036021</td>\n",
       "      <td>-0.025758</td>\n",
       "    </tr>\n",
       "    <tr>\n",
       "      <th>HP</th>\n",
       "      <td>-0.108124</td>\n",
       "      <td>0.308321</td>\n",
       "      <td>-0.152661</td>\n",
       "      <td>-0.333029</td>\n",
       "      <td>1.000000</td>\n",
       "      <td>0.057959</td>\n",
       "      <td>0.013786</td>\n",
       "      <td>0.053284</td>\n",
       "      <td>0.096943</td>\n",
       "      <td>0.086044</td>\n",
       "    </tr>\n",
       "  </tbody>\n",
       "</table>\n",
       "</div>"
      ],
      "text/plain": [
       "            Unnamed: 0     Price       Age        KM        HP  MetColor  \\\n",
       "Unnamed: 0    1.000000 -0.738289  0.872340  0.276041 -0.108124 -0.073913   \n",
       "Price        -0.738289  1.000000 -0.844883 -0.565016  0.308321  0.106353   \n",
       "Age           0.872340 -0.844883  1.000000  0.495402 -0.152661 -0.091196   \n",
       "KM            0.276041 -0.565016  0.495402  1.000000 -0.333029 -0.076956   \n",
       "HP           -0.108124  0.308321 -0.152661 -0.333029  1.000000  0.057959   \n",
       "\n",
       "            Automatic        CC     Doors    Weight  \n",
       "Unnamed: 0   0.066299 -0.184490 -0.130268 -0.414577  \n",
       "Price        0.033081  0.165067  0.185326  0.581198  \n",
       "Age          0.030653 -0.116000 -0.151549 -0.441797  \n",
       "KM          -0.080743  0.296281 -0.036021 -0.025758  \n",
       "HP           0.013786  0.053284  0.096943  0.086044  "
      ]
     },
     "execution_count": 128,
     "metadata": {},
     "output_type": "execute_result"
    }
   ],
   "source": [
    "corr= data.corr()\n",
    "corr.head()"
   ]
  },
  {
   "cell_type": "code",
   "execution_count": 129,
   "metadata": {},
   "outputs": [
    {
     "data": {
      "text/plain": [
       "<AxesSubplot:>"
      ]
     },
     "execution_count": 129,
     "metadata": {},
     "output_type": "execute_result"
    },
    {
     "data": {
      "image/png": "[encoded data removed]",
      "text/plain": [
       "<Figure size 432x288 with 2 Axes>"
      ]
     },
     "metadata": {
      "needs_background": "light"
     },
     "output_type": "display_data"
    }
   ],
   "source": [
    "sns.heatmap(corr)"
   ]
  },
  {
   "cell_type": "code",
   "execution_count": 130,
   "metadata": {},
   "outputs": [],
   "source": [
    "columns = np.full((corr.shape[0],), True, dtype=bool)\n",
    "for i in range(corr.shape[0]):\n",
    "    for j in range(i+1, corr.shape[0]):\n",
    "        if corr.iloc[i,j] >= 0.5:\n",
    "            if columns[j]:\n",
    "                columns[j] = False"
   ]
  },
  {
   "cell_type": "code",
   "execution_count": 131,
   "metadata": {},
   "outputs": [
    {
     "data": {
      "text/plain": [
       "(8,)"
      ]
     },
     "execution_count": 131,
     "metadata": {},
     "output_type": "execute_result"
    }
   ],
   "source": [
    "selected_columns = data.columns[columns]\n",
    "selected_columns.shape"
   ]
  },
  {
   "cell_type": "code",
   "execution_count": 132,
   "metadata": {},
   "outputs": [
    {
     "name": "stdout",
     "output_type": "stream",
     "text": [
      "      Unnamed: 0  Price     KM   HP  MetColor  Automatic    CC  Doors\n",
      "0              0  13500  46986   90         1          0  2000      3\n",
      "1              1  13750  72937   90         1          0  2000      3\n",
      "2              2  13950  41711   90         0          0  2000      3\n",
      "3              3  14950  48000   90         0          0  2000      3\n",
      "4              4  13750  38500   90         0          0  2000      3\n",
      "...          ...    ...    ...  ...       ...        ...   ...    ...\n",
      "1431        1431   7500  20544   86         1          0  1300      3\n",
      "1432        1432  10845  68647   86         0          0  1300      3\n",
      "1433        1433   8500  17016   86         0          0  1300      3\n",
      "1434        1434   7250  68647   86         1          0  1300      3\n",
      "1435        1435   6950      1  110         0          0  1600      5\n",
      "\n",
      "[1436 rows x 8 columns]\n"
     ]
    }
   ],
   "source": [
    "print(data[selected_columns])"
   ]
  },
  {
   "cell_type": "code",
   "execution_count": null,
   "metadata": {},
   "outputs": [],
   "source": []
  }
 ],
 "metadata": {
  "kernelspec": {
   "display_name": "Python 3",
   "language": "python",
   "name": "python3"
  },
  "language_info": {
   "codemirror_mode": {
    "name": "ipython",
    "version": 3
   },
   "file_extension": ".py",
   "mimetype": "text/x-python",
   "name": "python",
   "nbconvert_exporter": "python",
   "pygments_lexer": "ipython3",
   "version": "3.6.9"
  }
 },
 "nbformat": 4,
 "nbformat_minor": 4
}
