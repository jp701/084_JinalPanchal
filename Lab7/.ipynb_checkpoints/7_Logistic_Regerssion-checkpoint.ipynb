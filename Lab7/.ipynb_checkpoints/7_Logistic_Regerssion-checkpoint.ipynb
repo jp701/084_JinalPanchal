{
 "cells": [
  {
   "cell_type": "markdown",
   "metadata": {
    "id": "HQ_69fJ8FNrZ"
   },
   "source": [
    "# Aim:\n",
    "* Extract features for logistic regression given some text\n",
    "* Implement logistic regression from scratch\n",
    "* Apply logistic regression on a natural language processing task\n",
    "* Test logistic regression\n",
    "\n",
    "We will be using a data set of tweets."
   ]
  },
  {
   "cell_type": "markdown",
   "metadata": {
    "id": "tjgaYAUuPTUk"
   },
   "source": [
    "Import functions and data"
   ]
  },
  {
   "cell_type": "code",
   "execution_count": 1,
   "metadata": {
    "id": "ShAxPp9yPRL4"
   },
   "outputs": [],
   "source": [
    "import nltk\n",
    "from nltk.corpus import twitter_samples \n",
    "import pandas as pd\n",
    "import tensorflow as tf"
   ]
  },
  {
   "cell_type": "code",
   "execution_count": 2,
   "metadata": {
    "colab": {
     "base_uri": "https://localhost:8080/"
    },
    "id": "RdpPeSwlOoK4",
    "outputId": "ae734f90-6b81-40bf-8ee4-d3b6a696944e"
   },
   "outputs": [
    {
     "name": "stdout",
     "output_type": "stream",
     "text": [
      "[nltk_data] Downloading package twitter_samples to /root/nltk_data...\n",
      "[nltk_data]   Unzipping corpora/twitter_samples.zip.\n",
      "[nltk_data] Downloading package stopwords to /root/nltk_data...\n",
      "[nltk_data]   Unzipping corpora/stopwords.zip.\n"
     ]
    },
    {
     "data": {
      "text/plain": [
       "True"
      ]
     },
     "execution_count": 2,
     "metadata": {},
     "output_type": "execute_result"
    }
   ],
   "source": [
    "nltk.download('twitter_samples')\n",
    "nltk.download('stopwords')"
   ]
  },
  {
   "cell_type": "code",
   "execution_count": 7,
   "metadata": {
    "id": "t7xFZWHxPqtx"
   },
   "outputs": [],
   "source": [
    "import re\n",
    "import string\n",
    "import numpy as np\n",
    "\n",
    "from nltk.corpus import stopwords\n",
    "from nltk.stem import PorterStemmer\n",
    "from nltk.tokenize import TweetTokenizer"
   ]
  },
  {
   "cell_type": "markdown",
   "metadata": {
    "id": "QPDZ1vIjPxFo"
   },
   "source": [
    "Preprocessing"
   ]
  },
  {
   "cell_type": "code",
   "execution_count": 8,
   "metadata": {
    "id": "VJ2OJ_DJPycU"
   },
   "outputs": [],
   "source": [
    "#process_tweet(): cleans the text, tokenizes it into separate words, removes stopwords, and converts words to stems.\n",
    "def process_tweet(tweet):\n",
    "    stemmer = PorterStemmer()\n",
    "    stopwords_english = stopwords.words('english')\n",
    "\n",
    "    # remove stock market tickers like $GE\n",
    "    tweet = re.sub(r'\\$\\w*', '', tweet)\n",
    "    # remove old style retweet text \"RT\"\n",
    "    tweet = re.sub(r'^RT[\\s]+', '', tweet)\n",
    "    # remove hyperlinks\n",
    "    tweet = re.sub(r'https?:\\/\\/.*[\\r\\n]*', '', tweet)\n",
    "    # remove hashtags\n",
    "    # only removing the hash # sign from the word\n",
    "    tweet = re.sub(r'#', '', tweet)\n",
    "    \n",
    "    # tokenize tweets\n",
    "    tokenizer = TweetTokenizer(preserve_case=False, strip_handles=True, reduce_len=True)\n",
    "    tweet_tokens = tokenizer.tokenize(tweet)\n",
    "\n",
    "    tweets_clean = []  #a list of words containing the processed tweet\n",
    "    for word in tweet_tokens:\n",
    "      if (word not in stopwords_english and word not in string.punctuation):  \n",
    "        stem_word = stemmer.stem(word)\n",
    "        tweets_clean.append(stem_word)\n",
    "    return tweets_clean"
   ]
  },
  {
   "cell_type": "code",
   "execution_count": 9,
   "metadata": {
    "id": "M0IpU6nyQLYE"
   },
   "outputs": [],
   "source": [
    "#build_freqs counts how often a word in the 'corpus' (the entire set of tweets) was associated with\n",
    "  # a positive label '1'         or \n",
    "  # a negative label '0', \n",
    "\n",
    "#then builds the freqs dictionary, where each key is a (word,label) tuple, \n",
    "\n",
    "#and the value is the count of its frequency within the corpus of tweets.\n",
    "\n",
    "def build_freqs(tweets, ys):\n",
    "    yslist = np.squeeze(ys).tolist()\n",
    "    freqs = {}\n",
    "\n",
    "    for y, tweet in zip(yslist, tweets):\n",
    "        for word in process_tweet(tweet):\n",
    "            pair = (word, y)\n",
    "            #Update the count of pair if present, set it to 1 otherwise\n",
    "            if pair in freqs:\n",
    "                freqs[pair] += 1\n",
    "            else:\n",
    "                freqs[pair] = 1\n",
    "\n",
    "    return freqs"
   ]
  },
  {
   "cell_type": "markdown",
   "metadata": {
    "id": "zG07lgkRFNtF"
   },
   "source": [
    "### Prepare the data\n",
    "* The `twitter_samples` contains subsets of 5,000 positive tweets, 5,000 negative tweets, and the full set of 10,000 tweets.  "
   ]
  },
  {
   "cell_type": "code",
   "execution_count": 4,
   "metadata": {
    "id": "JO697i5oQYs8"
   },
   "outputs": [],
   "source": [
    "# select the set of positive and negative tweets\n",
    "all_positive_tweets = twitter_samples.strings('positive_tweets.json')\n",
    "all_negative_tweets = twitter_samples.strings('negative_tweets.json')"
   ]
  },
  {
   "cell_type": "code",
   "execution_count": 13,
   "metadata": {
    "id": "LLQSEhwZQdAA"
   },
   "outputs": [],
   "source": [
    "\n",
    "# split the data into two pieces, one for training and one for testing\n",
    "from sklearn.model_selection import train_test_split\n",
    "\n",
    "train_pos, test_pos = train_test_split(all_positive_tweets, test_size=0.25)\n",
    "train_neg, test_neg = train_test_split(all_negative_tweets, test_size=0.25)\n",
    "\n",
    "x_train = train_pos + train_neg\n",
    "x_test = test_pos + test_neg"
   ]
  },
  {
   "cell_type": "code",
   "execution_count": 14,
   "metadata": {
    "id": "NKQbofQMQkTd"
   },
   "outputs": [],
   "source": [
    "# combine positive and negative labels\n",
    "y_train = np.append(np.ones((len(train_pos), 1)), np.zeros((len(train_neg), 1)), axis=0)\n",
    "y_test = np.append(np.ones((len(test_pos), 1)), np.zeros((len(test_neg), 1)), axis=0)"
   ]
  },
  {
   "cell_type": "code",
   "execution_count": 15,
   "metadata": {
    "colab": {
     "base_uri": "https://localhost:8080/"
    },
    "id": "_kubjn_aQv_P",
    "outputId": "dcde38be-a6f6-437e-8e1a-01ef0cb55da6"
   },
   "outputs": [
    {
     "name": "stdout",
     "output_type": "stream",
     "text": [
      "type(freqs) = <class 'dict'>\n",
      "len(freqs) = 10404\n"
     ]
    }
   ],
   "source": [
    "# create frequency dictionary\n",
    "freqs = build_freqs(x_train, y_train)\n",
    "\n",
    "# check the output\n",
    "print(\"type(freqs) = \" + str(type(freqs)))\n",
    "print(\"len(freqs) = \" + str(len(freqs.keys())))"
   ]
  },
  {
   "cell_type": "code",
   "execution_count": 16,
   "metadata": {
    "colab": {
     "base_uri": "https://localhost:8080/"
    },
    "id": "nRyo-gDgfBMj",
    "outputId": "d32026f4-c9cc-480c-ae24-780adb228de7"
   },
   "outputs": [
    {
     "name": "stdout",
     "output_type": "stream",
     "text": [
      "This is an example of a positive tweet: \n",
      " @BertolacciTweet .. we wait you :) against @Inter\n",
      "\n",
      "This is an example of the processed version of the tweet: \n",
      " ['..', 'wait', ':)']\n"
     ]
    }
   ],
   "source": [
    "# Example\n",
    "print('This is an example of a positive tweet: \\n', train_x[0])\n",
    "print('\\nThis is an example of the processed version of the tweet: \\n', process_tweet(train_x[0]))"
   ]
  },
  {
   "cell_type": "code",
   "execution_count": 17,
   "metadata": {
    "id": "htHuNqLdQwFT"
   },
   "outputs": [],
   "source": [
    "def extract_features(tweet, freqs):\n",
    "    # tokenizes, stems, and removes stopwords\n",
    "    output = []\n",
    "    for word_l in tweet:\n",
    "        word_l = process_tweet(word_l)\n",
    "\n",
    "        # 3 elements in the form of a 1 x 3 vector\n",
    "        x = np.zeros((1, 3))\n",
    "\n",
    "        #bias term is set to 1\n",
    "        x[0,0] = 1\n",
    "\n",
    "        # loop through each word in the list of words\n",
    "        for word in word_l:\n",
    "\n",
    "            # increment the word count for the positive label 1\n",
    "            x[0,1] += freqs.get((word, 1.0),0)\n",
    "\n",
    "            # increment the word count for the negative label 0\n",
    "            x[0,2] += freqs.get((word, 0.0),0)\n",
    "\n",
    "\n",
    "        assert(x.shape == (1, 3))\n",
    "        output.append(x)\n",
    "    return output"
   ]
  },
  {
   "cell_type": "markdown",
   "metadata": {
    "id": "d_DxkFlqRECy"
   },
   "source": [
    "Model"
   ]
  },
  {
   "cell_type": "code",
   "execution_count": 18,
   "metadata": {
    "id": "bIPwSF4gfPr7"
   },
   "outputs": [],
   "source": [
    "model = tf.keras.models.Sequential([\n",
    "    tf.keras.layers.Dense(2, activation=tf.nn.softmax)\n",
    "])"
   ]
  },
  {
   "cell_type": "code",
   "execution_count": 19,
   "metadata": {
    "id": "wHFgYe-bfSwf"
   },
   "outputs": [],
   "source": [
    "model.compile(optimizer='sgd',\n",
    "              loss='sparse_categorical_crossentropy',\n",
    "              metrics=['accuracy'])"
   ]
  },
  {
   "cell_type": "code",
   "execution_count": 21,
   "metadata": {
    "colab": {
     "base_uri": "https://localhost:8080/"
    },
    "id": "L-BNWZAqfWp5",
    "outputId": "420cec07-dabd-4495-89f3-6921b9261fc3"
   },
   "outputs": [
    {
     "name": "stdout",
     "output_type": "stream",
     "text": [
      "Epoch 1/5\n",
      "219/219 [==============================] - 1s 1ms/step - loss: 51.8894 - accuracy: 0.9883\n",
      "Epoch 2/5\n",
      "219/219 [==============================] - 0s 1ms/step - loss: 31.0722 - accuracy: 0.9940\n",
      "Epoch 3/5\n",
      "219/219 [==============================] - 0s 1ms/step - loss: 29.2569 - accuracy: 0.9941\n",
      "Epoch 4/5\n",
      "219/219 [==============================] - 0s 1ms/step - loss: 26.0809 - accuracy: 0.9943\n",
      "Epoch 5/5\n",
      "219/219 [==============================] - 0s 1ms/step - loss: 22.4959 - accuracy: 0.9939\n"
     ]
    },
    {
     "data": {
      "text/plain": [
       "<keras.callbacks.History at 0x7fe1ed3ea090>"
      ]
     },
     "execution_count": 21,
     "metadata": {},
     "output_type": "execute_result"
    }
   ],
   "source": [
    "model.fit(tf.convert_to_tensor(extract_features(x_train, freqs)), y_train, epochs=5)"
   ]
  },
  {
   "cell_type": "code",
   "execution_count": 22,
   "metadata": {
    "colab": {
     "base_uri": "https://localhost:8080/"
    },
    "id": "Ju0bOEw5ftL8",
    "outputId": "cfb6a39b-9d71-4836-ae36-2f97ca90dc7b"
   },
   "outputs": [
    {
     "name": "stdout",
     "output_type": "stream",
     "text": [
      "94/94 [==============================] - 0s 1ms/step - loss: 20.5376 - accuracy: 0.9913\n"
     ]
    },
    {
     "data": {
      "text/plain": [
       "[20.537643432617188, 0.9913333058357239]"
      ]
     },
     "execution_count": 22,
     "metadata": {},
     "output_type": "execute_result"
    }
   ],
   "source": [
    "model.evaluate(tf.convert_to_tensor(extract_features(x_test, freqs)), y_test)"
   ]
  }
 ],
 "metadata": {
  "colab": {
   "authorship_tag": "ABX9TyPbHzkYWQfomK8v30yWzDyE",
   "collapsed_sections": [],
   "name": "090_Lab7_Logistic_Regerssion.ipynb",
   "provenance": []
  },
  "kernelspec": {
   "display_name": "Python 3",
   "language": "python",
   "name": "python3"
  },
  "language_info": {
   "codemirror_mode": {
    "name": "ipython",
    "version": 3
   },
   "file_extension": ".py",
   "mimetype": "text/x-python",
   "name": "python",
   "nbconvert_exporter": "python",
   "pygments_lexer": "ipython3",
   "version": "3.6.9"
  }
 },
 "nbformat": 4,
 "nbformat_minor": 1
}
