{
 "cells": [
  {
   "cell_type": "markdown",
   "metadata": {
    "id": "4qIwqSdygWdc"
   },
   "source": [
    "**Try SVM classifier on MNIST dataset, compare the preformance of linear, polynomial and RBF kernels**"
   ]
  },
  {
   "cell_type": "code",
   "execution_count": 1,
   "metadata": {
    "id": "vj55XiyQgTcS"
   },
   "outputs": [],
   "source": [
    "import sys, os\n",
    "import numpy as np\n",
    "import matplotlib.pyplot as plt\n",
    "from sklearn import svm, metrics\n",
    "from sklearn.model_selection import train_test_split\n",
    "from sklearn.datasets import load_digits"
   ]
  },
  {
   "cell_type": "code",
   "execution_count": 2,
   "metadata": {
    "colab": {
     "base_uri": "https://localhost:8080/"
    },
    "id": "wK54zufrgvwc",
    "outputId": "58ed133a-f05e-4aa2-9652-2116a06015f3"
   },
   "outputs": [
    {
     "data": {
      "text/plain": [
       "(1797, 64)"
      ]
     },
     "execution_count": 2,
     "metadata": {},
     "output_type": "execute_result"
    }
   ],
   "source": [
    "digits = load_digits()\n",
    "digits.data.shape"
   ]
  },
  {
   "cell_type": "code",
   "execution_count": 3,
   "metadata": {
    "colab": {
     "base_uri": "https://localhost:8080/"
    },
    "id": "-W0p17jVg1q2",
    "outputId": "6282d209-f60b-4960-8947-44504842e90f"
   },
   "outputs": [
    {
     "data": {
      "text/plain": [
       "array([0, 1, 2, ..., 8, 9, 8])"
      ]
     },
     "execution_count": 3,
     "metadata": {},
     "output_type": "execute_result"
    }
   ],
   "source": [
    "digits.target"
   ]
  },
  {
   "cell_type": "code",
   "execution_count": 4,
   "metadata": {
    "id": "RXQnc34Kg6A8"
   },
   "outputs": [],
   "source": [
    "x_train, x_test, y_train, y_test = train_test_split(digits.data, digits.target, test_size = 0.2 ,random_state = 84)"
   ]
  },
  {
   "cell_type": "markdown",
   "metadata": {
    "id": "Z8Ca_UTug_d9"
   },
   "source": [
    "Linear SVM classifier"
   ]
  },
  {
   "cell_type": "code",
   "execution_count": 15,
   "metadata": {
    "colab": {
     "base_uri": "https://localhost:8080/"
    },
    "id": "JFSt4Ox-hBcH",
    "outputId": "43e1ec1b-bd63-4a48-cf53-0301d2ba2974"
   },
   "outputs": [
    {
     "data": {
      "text/plain": [
       "SVC(kernel='linear')"
      ]
     },
     "execution_count": 15,
     "metadata": {},
     "output_type": "execute_result"
    }
   ],
   "source": [
    "lsc = svm.SVC(kernel='linear')\n",
    "\n",
    "lsc.fit(x_train, y_train)"
   ]
  },
  {
   "cell_type": "code",
   "execution_count": 16,
   "metadata": {
    "colab": {
     "base_uri": "https://localhost:8080/"
    },
    "id": "81UAPZR4hI8V",
    "outputId": "ca1aef25-9b68-42f2-9488-b99fef4731f4"
   },
   "outputs": [
    {
     "name": "stdout",
     "output_type": "stream",
     "text": [
      "Accuracy Score [linear]: 0.9805555555555555\n"
     ]
    }
   ],
   "source": [
    "lin_y_pred = lsc.predict(x_test)\n",
    "\n",
    "print(\"Accuracy Score [linear]:\", metrics.accuracy_score(y_test, lin_y_pred))"
   ]
  },
  {
   "cell_type": "markdown",
   "metadata": {
    "id": "ssKImkAwhSBn"
   },
   "source": [
    "RBF SVM classifier"
   ]
  },
  {
   "cell_type": "code",
   "execution_count": 17,
   "metadata": {
    "colab": {
     "base_uri": "https://localhost:8080/"
    },
    "id": "TMUil94FhUfY",
    "outputId": "5f879bf6-da66-44d5-ee09-8ffb55a15ca5"
   },
   "outputs": [
    {
     "data": {
      "text/plain": [
       "SVC()"
      ]
     },
     "execution_count": 17,
     "metadata": {},
     "output_type": "execute_result"
    }
   ],
   "source": [
    "rbf = svm.SVC(kernel='rbf')\n",
    "rbf.fit(x_train, y_train)"
   ]
  },
  {
   "cell_type": "code",
   "execution_count": 18,
   "metadata": {
    "colab": {
     "base_uri": "https://localhost:8080/"
    },
    "id": "7Js2k4nzhgfW",
    "outputId": "6073a09b-06c8-4510-ed1a-f57ae93917e8"
   },
   "outputs": [
    {
     "name": "stdout",
     "output_type": "stream",
     "text": [
      "Accuracy Score [rbf]: 0.9833333333333333\n"
     ]
    }
   ],
   "source": [
    "rbf_y_pred = rbf.predict(x_test)\n",
    "\n",
    "print(\"Accuracy Score [rbf]:\", metrics.accuracy_score(y_test, rbf_y_pred))"
   ]
  },
  {
   "cell_type": "markdown",
   "metadata": {
    "id": "qvC5y0oXhq7Z"
   },
   "source": [
    "Polynomial SVM classifier"
   ]
  },
  {
   "cell_type": "code",
   "execution_count": 19,
   "metadata": {
    "colab": {
     "base_uri": "https://localhost:8080/"
    },
    "id": "mWV6guBchgox",
    "outputId": "7f8d2d81-faa2-45e6-e6cf-348a90ac8549"
   },
   "outputs": [
    {
     "data": {
      "text/plain": [
       "SVC(kernel='poly')"
      ]
     },
     "execution_count": 19,
     "metadata": {},
     "output_type": "execute_result"
    }
   ],
   "source": [
    "poly = svm.SVC(kernel='poly')\n",
    "poly.fit(x_train, y_train)"
   ]
  },
  {
   "cell_type": "code",
   "execution_count": 20,
   "metadata": {
    "colab": {
     "base_uri": "https://localhost:8080/"
    },
    "id": "0Q6gEqYRh56v",
    "outputId": "2f402cbb-9e6e-4f65-8831-3dffec598cb3"
   },
   "outputs": [
    {
     "name": "stdout",
     "output_type": "stream",
     "text": [
      "Accuracy Score [poly]: 0.9888888888888889\n"
     ]
    }
   ],
   "source": [
    "poly_y_pred = poly.predict(x_test)\n",
    "\n",
    "print(\"Accuracy Score [poly]:\", metrics.accuracy_score(y_test, poly_y_pred))"
   ]
  },
  {
   "cell_type": "code",
   "execution_count": null,
   "metadata": {},
   "outputs": [],
   "source": []
  }
 ],
 "metadata": {
  "colab": {
   "authorship_tag": "ABX9TyPXzeURRh3xdxb9Vy10APPw",
   "collapsed_sections": [],
   "name": "090_Lab9_MNIST_SVM.ipynb",
   "provenance": []
  },
  "kernelspec": {
   "display_name": "Python 3",
   "language": "python",
   "name": "python3"
  },
  "language_info": {
   "codemirror_mode": {
    "name": "ipython",
    "version": 3
   },
   "file_extension": ".py",
   "mimetype": "text/x-python",
   "name": "python",
   "nbconvert_exporter": "python",
   "pygments_lexer": "ipython3",
   "version": "3.6.9"
  }
 },
 "nbformat": 4,
 "nbformat_minor": 1
}
