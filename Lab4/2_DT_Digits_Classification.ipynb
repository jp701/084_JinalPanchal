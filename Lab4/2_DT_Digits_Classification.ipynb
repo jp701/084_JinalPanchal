{
 "cells": [
  {
   "cell_type": "markdown",
   "metadata": {},
   "source": [
    "Task 2: Apply algorithm on digits dataset - LabelEncoding of features: and Train test Division 80%-20%"
   ]
  },
  {
   "cell_type": "code",
   "execution_count": 3,
   "metadata": {
    "colab": {},
    "colab_type": "code",
    "executionInfo": {
     "elapsed": 1603,
     "status": "ok",
     "timestamp": 1596080371727,
     "user": {
      "displayName": "Prof. Hariom Pandya",
      "photoUrl": "https://lh3.googleusercontent.com/a-/AOh14Ggt3sg6X_951s0boD3SSJvqRng4AQaC3MhTBtGQ9Q=s64",
      "userId": "16159546014304882594"
     },
     "user_tz": -330
    },
    "id": "19-VWLo5dRM_"
   },
   "outputs": [
    {
     "name": "stdout",
     "output_type": "stream",
     "text": [
      "(1797, 64)\n",
      "(1797,)\n"
     ]
    }
   ],
   "source": [
    "from sklearn import datasets\n",
    "from sklearn.tree import DecisionTreeClassifier\n",
    "import pandas as pd\n",
    "import numpy as np\n",
    "\n",
    "#loading dataset\n",
    "digits = datasets.load_digits()\n",
    "\n",
    "print(digits.data.shape)\n",
    "print(digits.target.shape)\n"
   ]
  },
  {
   "cell_type": "code",
   "execution_count": 4,
   "metadata": {
    "colab": {},
    "colab_type": "code",
    "executionInfo": {
     "elapsed": 1571,
     "status": "ok",
     "timestamp": 1596080371731,
     "user": {
      "displayName": "Prof. Hariom Pandya",
      "photoUrl": "https://lh3.googleusercontent.com/a-/AOh14Ggt3sg6X_951s0boD3SSJvqRng4AQaC3MhTBtGQ9Q=s64",
      "userId": "16159546014304882594"
     },
     "user_tz": -330
    },
    "id": "STpVNWyrdRNb"
   },
   "outputs": [
    {
     "name": "stdout",
     "output_type": "stream",
     "text": [
      "Predicted values  :  \n",
      "\n",
      "[0 1 1 5 1 3 5 5 1 9 3 6 9 0 8 3 9 7 8 3 6 8 8 6 9 7 5 4 6 1 1 7 1 3 3 3 9\n",
      " 5 5 4 4 3 7 4 7 9 0 4 2 3 6 3 8 4 9 1 6 8 9 6 8 2 7 5 1 2 8 5 9 5 5 6 4 5\n",
      " 1 1 0 1 8 5 7 9 4 4 7 6 1 0 0 9 5 6 3 0 6 1 8 7 2 2 1 9 5 9 1 4 8 2 7 5 4\n",
      " 9 7 6 3 8 1 3 4 8 6 4 3 6 1 3 6 3 8 1 8 1 0 5 8 7 8 0 6 0 9 6 8 0 3 0 3 9\n",
      " 2 8 4 0 1 5 6 5 8 2 5 4 4 3 6 2 4 0 7 1 7 5 6 9 9 7 8 9 0 0 2 6 8 4 5 7 8\n",
      " 0 5 1 7 4 1 7 1 4 9 1 3 9 5 8 2 3 7 1 8 3 2 9 5 6 0 0 9 0 3 9 3 1 9 2 1 5\n",
      " 2 7 5 0 0 6 2 0 4 4 9 0 5 6 5 5 4 8 8 6 1 4 7 5 8 7 9 8 9 1 8 4 1 1 4 2 9\n",
      " 4 7 0 2 8 1 1 8 8 4 5 6 3 3 8 3 4 0 2 0 6 7 3 3 7 1 6 8 4 7 9 6 0 4 8 9 8\n",
      " 3 4 1 5 0 5 3 8 4 5 9 1 7 0 3 1 8 6 1 0 6 3 9 5 9 0 5 1 3 7 6 1 0 3 8 1 1\n",
      " 1 8 4 5 1 4 4 4 4 9 4 2 4 4 0 8 1 3 3 3 3 0 6 6 1 8 4]\n"
     ]
    }
   ],
   "source": [
    "from sklearn.model_selection import train_test_split\n",
    "\n",
    "x = digits.data\n",
    "y = digits.target\n",
    "\n",
    "#splitting data into train and test sets\n",
    "x_train, x_test, y_train, y_test = train_test_split(x, y, test_size = 0.20, random_state = 84)\n",
    "\n",
    "#creating a decision tree classifier using gini\n",
    "classifier = DecisionTreeClassifier(criterion = 'gini', random_state = 84, max_depth = 7, min_samples_leaf = 26)\n",
    "classifier.fit(x_train, y_train)\n",
    "\n",
    "#predicting classes of test data\n",
    "y_pred = classifier.predict(x_test)\n",
    "print('Predicted values  :  \\n')\n",
    "print(y_pred)"
   ]
  },
  {
   "cell_type": "code",
   "execution_count": 5,
   "metadata": {
    "colab": {},
    "colab_type": "code",
    "executionInfo": {
     "elapsed": 1563,
     "status": "ok",
     "timestamp": 1596080371735,
     "user": {
      "displayName": "Prof. Hariom Pandya",
      "photoUrl": "https://lh3.googleusercontent.com/a-/AOh14Ggt3sg6X_951s0boD3SSJvqRng4AQaC3MhTBtGQ9Q=s64",
      "userId": "16159546014304882594"
     },
     "user_tz": -330
    },
    "id": "SNoEzna3dRN2"
   },
   "outputs": [
    {
     "name": "stdout",
     "output_type": "stream",
     "text": [
      "Confusion Matrix :  \n",
      " [[29  0  0  0  0  1  0  0  1  0]\n",
      " [ 0 25  2  2 10  0  0  1  2  0]\n",
      " [ 0  2 14  1  0  0  0  0  1  0]\n",
      " [ 0  5  0 31  0  1  0  0  2  2]\n",
      " [ 1  4  0  0 28  1  0  1  2  0]\n",
      " [ 3  1  0  0  2 32  0  0  2  2]\n",
      " [ 2  3  0  0  2  0 34  0  0  0]\n",
      " [ 0  2  0  0  0  0  0 26  6  4]\n",
      " [ 0  4  3  2  0  0  0  0 27  2]\n",
      " [ 0  2  0  3  0  2  0  0  0 25]]\n",
      "\n",
      "Accuracy :   0.7527777777777778\n",
      "\n",
      "Report :                 precision    recall  f1-score   support\n",
      "\n",
      "           0       0.83      0.94      0.88        31\n",
      "           1       0.52      0.60      0.56        42\n",
      "           2       0.74      0.78      0.76        18\n",
      "           3       0.79      0.76      0.77        41\n",
      "           4       0.67      0.76      0.71        37\n",
      "           5       0.86      0.76      0.81        42\n",
      "           6       1.00      0.83      0.91        41\n",
      "           7       0.93      0.68      0.79        38\n",
      "           8       0.63      0.71      0.67        38\n",
      "           9       0.71      0.78      0.75        32\n",
      "\n",
      "    accuracy                           0.75       360\n",
      "   macro avg       0.77      0.76      0.76       360\n",
      "weighted avg       0.77      0.75      0.76       360\n",
      "\n"
     ]
    }
   ],
   "source": [
    "#model accuracy\n",
    "from sklearn import metrics\n",
    "print('Confusion Matrix :  \\n', metrics.confusion_matrix(y_test, y_pred))\n",
    "print('\\nAccuracy :  ', metrics.accuracy_score(y_test, y_pred))\n",
    "print('\\nReport :  ', metrics.classification_report(y_test, y_pred))"
   ]
  },
  {
   "cell_type": "code",
   "execution_count": 6,
   "metadata": {
    "colab": {},
    "colab_type": "code",
    "executionInfo": {
     "elapsed": 1538,
     "status": "ok",
     "timestamp": 1596080371738,
     "user": {
      "displayName": "Prof. Hariom Pandya",
      "photoUrl": "https://lh3.googleusercontent.com/a-/AOh14Ggt3sg6X_951s0boD3SSJvqRng4AQaC3MhTBtGQ9Q=s64",
      "userId": "16159546014304882594"
     },
     "user_tz": -330
    },
    "id": "CRct6OrjdROI"
   },
   "outputs": [
    {
     "name": "stdout",
     "output_type": "stream",
     "text": [
      "Confusion Matrix  :  \n",
      "[[29  0  0  0  0  1  0  0  1  0]\n",
      " [ 0 25  2  2 10  0  0  1  2  0]\n",
      " [ 0  2 14  1  0  0  0  0  1  0]\n",
      " [ 0  5  0 31  0  1  0  0  2  2]\n",
      " [ 1  4  0  0 28  1  0  1  2  0]\n",
      " [ 3  1  0  0  2 32  0  0  2  2]\n",
      " [ 2  3  0  0  2  0 34  0  0  0]\n",
      " [ 0  2  0  0  0  0  0 26  6  4]\n",
      " [ 0  4  3  2  0  0  0  0 27  2]\n",
      " [ 0  2  0  3  0  2  0  0  0 25]]\n"
     ]
    },
    {
     "data": {
      "image/png": "[encoded data removed]",
      "text/plain": [
       "<Figure size 432x288 with 2 Axes>"
      ]
     },
     "metadata": {
      "needs_background": "light"
     },
     "output_type": "display_data"
    }
   ],
   "source": [
    "import matplotlib.pyplot as plt\n",
    "\n",
    "disp = metrics.plot_confusion_matrix(classifier, x_test, y_test)\n",
    "disp.figure_.suptitle('Confusion Matrix')\n",
    "print(f'Confusion Matrix  :  \\n{disp.confusion_matrix}')\n",
    "\n",
    "plt.show()"
   ]
  },
  {
   "cell_type": "code",
   "execution_count": 8,
   "metadata": {
    "colab": {},
    "colab_type": "code",
    "executionInfo": {
     "elapsed": 2042,
     "status": "ok",
     "timestamp": 1596080372340,
     "user": {
      "displayName": "Prof. Hariom Pandya",
      "photoUrl": "https://lh3.googleusercontent.com/a-/AOh14Ggt3sg6X_951s0boD3SSJvqRng4AQaC3MhTBtGQ9Q=s64",
      "userId": "16159546014304882594"
     },
     "user_tz": -330
    },
    "id": "4Wr0rlC6dRPV"
   },
   "outputs": [],
   "source": []
  },
  {
   "cell_type": "markdown",
   "metadata": {
    "colab_type": "text",
    "id": "nx-QEB7zfUGU"
   },
   "source": [
    "**Exercise:**\n",
    "\n",
    "**1) 1<=Rollnumber<=25:**\n",
    "  #Task 1: Try the algo on Same Whether dataset - OneHotEncoding of features: and Train test Division 70%-30%\n",
    "\n",
    "  #Task 2: Apply algorithm on wine dataset - LabelEncoding of features: and Train test Division 80%-20%\n",
    "\n",
    "**2) 26<=Rollnumber<=50:**\n",
    "  #Task 1: Try the algo on Same Whether dataset - LabelEncoding of features: and Train test Division 80%-20% with Gini Index as attribute selection measure\n",
    "\n",
    "  #Task 2: Apply algorithm on digits dataset - One Hot Encoding of features: and Train test Division 65%-35%\n",
    "\n",
    "**3) 51<=Rollnumber<=75:**\n",
    "  #Task 1: Try the algo on Same Whether dataset- LabelEncoding of features: and Train test Division 90%-10%\n",
    "\n",
    "   #Task 2: Apply algorithm on breast cancer wisconsin dataset - One Hot Encoding of features: and Train test Division 60%-40%\n",
    "\n",
    "**4) 76<=Rollnumber<=100:**\n",
    "  #Task 1: Try the algo on Same Whether dataset - OneHotEncoding of features: and Train test Division 75%-25% \n",
    "\n",
    " #Task 2: Apply algorithm on digits dataset - LabelEncoding of features: and Train test Division 80%-20%\n",
    "\n",
    "**5) 101<=Rollnumber<=125:**\n",
    "  #Task 1: Try the algo on Same Whether dataset - OneHotEncoding of features:and Train test Division 85%-15% and Gini Index as attribute selection measure\n",
    "\n",
    "   #Task 2: Apply algorithm on breast cancer wisconsin dataset - One Hot Encoding of features: and Train test Division 50%-50%\n",
    "\n",
    "**6) 126<=Rollnumber + All with No RollNumbers:**\n",
    "  #Task 1: Try the algo on Same Whether dataset - LabelEncoding of features:and Train test Division 95%-5%\n",
    "\n",
    "  #Task 2: Apply algorithm on wine dataset - LabelEncoding of features: and Train test Division 66%-34%\n",
    "  \n",
    "\n",
    "\n",
    "**Instruction for Task-1 & 2:**\n",
    "\n",
    "i) Set Random state and maximum allowed leaf of model equals to your roll number (or last 2 digit of your id -if you don't have roll number)\n",
    "\n",
    "\n",
    "**Questions: For Task - 1**\n",
    "\n",
    "(1) What will be the value of Play, if Outlook is ’Rainy’, Temperature is ’Mild’, Humidity =’Normal’, and Wind = ’False’?\n",
    "\n",
    "(2) What will be the value of Play, if Outlook is ’Sunny’, Temeprature is ’Cool’, Humidity =’High’, and Wind = ’True’?\n",
    "\n",
    "(3) Accuracy , precision and recall of both Models?\n"
   ]
  }
 ],
 "metadata": {
  "colab": {
   "name": "2_DT_Iris.ipynb",
   "provenance": []
  },
  "kernelspec": {
   "display_name": "Python 3",
   "language": "python",
   "name": "python3"
  },
  "language_info": {
   "codemirror_mode": {
    "name": "ipython",
    "version": 3
   },
   "file_extension": ".py",
   "mimetype": "text/x-python",
   "name": "python",
   "nbconvert_exporter": "python",
   "pygments_lexer": "ipython3",
   "version": "3.6.9"
  }
 },
 "nbformat": 4,
 "nbformat_minor": 1
}
