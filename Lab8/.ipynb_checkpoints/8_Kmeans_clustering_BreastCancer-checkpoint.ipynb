{
 "cells": [
  {
   "cell_type": "markdown",
   "metadata": {
    "id": "_pAd7wmLaWr-"
   },
   "source": [
    "Write a python program to perform K-Means clustering on Breast Cancer Data"
   ]
  },
  {
   "cell_type": "code",
   "execution_count": 1,
   "metadata": {
    "id": "ayNpLtX_aIu9"
   },
   "outputs": [],
   "source": [
    "import numpy as np \n",
    "import pandas as pd \n",
    "from sklearn import datasets\n",
    "from sklearn.cluster import KMeans\n",
    "from sklearn.metrics import accuracy_score, confusion_matrix\n",
    "import matplotlib.pyplot as plt"
   ]
  },
  {
   "cell_type": "code",
   "execution_count": 2,
   "metadata": {
    "colab": {
     "base_uri": "https://localhost:8080/"
    },
    "id": "mNZwDHfLachu",
    "outputId": "fd719239-ce20-4494-e0ac-c6bb7d135ed6"
   },
   "outputs": [
    {
     "name": "stdout",
     "output_type": "stream",
     "text": [
      "Data shape:   (569, 30)\n",
      "\n",
      "Target Shape:   (569,)\n",
      "\n",
      "Features:   ['mean radius' 'mean texture' 'mean perimeter' 'mean area'\n",
      " 'mean smoothness' 'mean compactness' 'mean concavity'\n",
      " 'mean concave points' 'mean symmetry' 'mean fractal dimension'\n",
      " 'radius error' 'texture error' 'perimeter error' 'area error'\n",
      " 'smoothness error' 'compactness error' 'concavity error'\n",
      " 'concave points error' 'symmetry error' 'fractal dimension error'\n",
      " 'worst radius' 'worst texture' 'worst perimeter' 'worst area'\n",
      " 'worst smoothness' 'worst compactness' 'worst concavity'\n",
      " 'worst concave points' 'worst symmetry' 'worst fractal dimension']\n",
      "\n",
      "Targets :   ['malignant' 'benign']\n"
     ]
    }
   ],
   "source": [
    "dataset = datasets.load_breast_cancer()\n",
    "print('Data shape:  ', dataset.data.shape)\n",
    "print('\\nTarget Shape:  ', dataset.target.shape)\n",
    "print('\\nFeatures:  ', dataset.feature_names)\n",
    "print('\\nTargets :  ', dataset.target_names)"
   ]
  },
  {
   "cell_type": "code",
   "execution_count": 7,
   "metadata": {
    "colab": {
     "base_uri": "https://localhost:8080/",
     "height": 279
    },
    "id": "uysvBj8taws5",
    "outputId": "a3b3a5dc-d2e5-4b7f-e8d2-b4fb71e72b7b"
   },
   "outputs": [
    {
     "data": {
      "image/png": "[encoded data removed]",
      "text/plain": [
       "<Figure size 432x288 with 1 Axes>"
      ]
     },
     "metadata": {
      "needs_background": "light"
     },
     "output_type": "display_data"
    }
   ],
   "source": [
    "# 0 for benign and 1 for malignant\n",
    "\n",
    "plt.scatter(dataset.data[:, 0], dataset.target, c='magenta', marker='*')\n",
    "plt.xlabel('Features')\n",
    "plt.ylabel('Cancer Type')\n",
    "plt.show()"
   ]
  },
  {
   "cell_type": "code",
   "execution_count": 8,
   "metadata": {
    "colab": {
     "base_uri": "https://localhost:8080/"
    },
    "id": "cXt8QBPla9HR",
    "outputId": "656a8f00-5b18-4d9a-f459-fca74fe0378f"
   },
   "outputs": [
    {
     "name": "stdout",
     "output_type": "stream",
     "text": [
      "[1 1 1 0 1 0 1 0 0 0 1 1 1 0 0 0 1 1 2 0 0 0 0 2 1 1 0 1 1 1 1 0 1 1 1 1 0\n",
      " 0 0 0 0 0 1 0 0 1 0 0 0 0 0 0 0 1 0 0 1 0 0 0 0 0 0 0 0 0 0 0 0 0 1 0 1 0\n",
      " 0 1 0 1 1 0 0 0 2 1 0 1 0 1 0 0 0 0 0 0 0 1 0 0 0 0 0 0 0 0 0 0 0 0 2 0 0\n",
      " 0 0 0 0 0 0 0 1 1 0 1 2 0 0 0 0 1 0 1 0 1 1 0 1 0 0 0 0 0 0 1 0 0 0 0 0 0\n",
      " 0 0 0 0 0 0 0 0 1 1 0 0 0 1 2 0 2 0 0 1 1 0 0 0 1 0 0 0 0 0 0 0 2 1 1 0 0\n",
      " 0 1 0 0 0 0 0 0 0 0 0 0 1 1 0 0 1 2 0 0 0 0 1 0 0 1 0 2 1 0 0 0 0 1 2 0 0\n",
      " 0 1 0 0 0 0 0 0 1 0 0 1 0 0 2 1 0 1 0 0 0 0 1 0 0 0 0 0 1 0 1 1 1 0 1 0 1\n",
      " 0 1 1 1 0 1 2 0 0 0 0 0 0 2 0 1 0 0 1 0 0 1 0 1 0 0 0 0 0 0 0 0 0 0 0 0 0\n",
      " 0 0 0 0 1 0 1 0 0 0 0 0 0 0 0 0 0 0 0 0 0 1 0 0 0 1 0 1 0 0 0 0 1 0 1 0 0\n",
      " 0 0 1 0 1 0 2 0 0 0 1 0 0 0 0 0 0 0 0 2 0 0 0 0 0 0 0 0 0 0 0 0 1 1 0 2 2\n",
      " 1 0 1 1 0 0 0 0 0 0 0 0 0 0 0 0 0 0 0 1 0 0 1 1 0 0 0 0 0 0 1 0 0 0 0 0 0\n",
      " 0 1 0 0 0 0 0 0 0 0 1 0 0 0 0 0 0 0 0 0 0 0 0 0 0 1 1 0 0 0 0 0 0 0 1 0 0\n",
      " 1 0 1 0 0 1 0 1 0 0 0 0 0 0 0 0 1 2 0 0 0 0 0 0 1 0 0 0 0 0 0 0 0 0 0 0 0\n",
      " 0 0 0 0 0 0 1 0 1 0 1 1 0 0 0 0 0 1 1 0 0 0 2 0 0 0 0 0 0 0 0 0 0 0 0 1 1\n",
      " 0 0 0 2 0 0 0 0 0 0 0 0 0 0 0 1 0 1 0 0 0 0 0 0 0 0 0 0 0 0 0 0 0 0 0 0 0\n",
      " 0 0 0 0 0 0 0 0 1 1 1 1 1 0]\n"
     ]
    }
   ],
   "source": [
    "kmeans = KMeans(n_clusters=3, random_state=84)\n",
    "prediction = kmeans.fit_predict(dataset.data)\n",
    "print(prediction)"
   ]
  },
  {
   "cell_type": "code",
   "execution_count": 9,
   "metadata": {
    "colab": {
     "base_uri": "https://localhost:8080/"
    },
    "id": "PELBGU57bCa4",
    "outputId": "2dfa66f7-2888-48e4-a208-785a4db8b91e"
   },
   "outputs": [
    {
     "name": "stdout",
     "output_type": "stream",
     "text": [
      "[[1.24468918e+01 1.85046588e+01 8.03803294e+01 4.86458118e+02\n",
      "  9.48157176e-02 9.04881882e-02 6.08800016e-02 3.25494682e-02\n",
      "  1.77951765e-01 6.35771765e-02 3.00681647e-01 1.21837294e+00\n",
      "  2.12940400e+00 2.32080188e+01 7.17541647e-03 2.33490235e-02\n",
      "  2.84143873e-02 1.05452329e-02 2.07137600e-02 3.75171835e-03\n",
      "  1.38918094e+01 2.45948235e+01 9.09125412e+01 6.04658353e+02\n",
      "  1.29845529e-01 2.21074000e-01 2.14822228e-01 8.97035082e-02\n",
      "  2.82468471e-01 8.32831059e-02]\n",
      " [1.83820325e+01 2.14148780e+01 1.21238537e+02 1.05796098e+03\n",
      "  1.00221870e-01 1.40414797e-01 1.58604959e-01 9.06387805e-02\n",
      "  1.91033333e-01 6.06883740e-02 6.40926016e-01 1.20443577e+00\n",
      "  4.50100813e+00 7.53708943e+01 6.57197561e-03 3.09567967e-02\n",
      "  4.08994309e-02 1.53647805e-02 2.00486992e-02 3.93508943e-03\n",
      "  2.22162602e+01 2.86411382e+01 1.47833333e+02 1.52278862e+03\n",
      "  1.39408780e-01 3.45692358e-01 4.26761789e-01 1.81023984e-01\n",
      "  3.15549593e-01 8.64585366e-02]\n",
      " [2.32147619e+01 2.27285714e+01 1.55066667e+02 1.70276190e+03\n",
      "  1.05001429e-01 1.73405714e-01 2.44971429e-01 1.35852381e-01\n",
      "  1.88309524e-01 5.93747619e-02 1.13901429e+00 1.25883333e+00\n",
      "  8.19842857e+00 1.81798571e+02 7.06723810e-03 3.64780952e-02\n",
      "  4.95609524e-02 1.62100000e-02 1.99633333e-02 3.84780952e-03\n",
      "  2.95500000e+01 3.02228571e+01 2.00490476e+02 2.70328571e+03\n",
      "  1.42195238e-01 3.90485714e-01 5.27814286e-01 2.29571429e-01\n",
      "  2.94823810e-01 8.26404762e-02]]\n"
     ]
    }
   ],
   "source": [
    "kmeans.cluster_centers_.shape\n",
    "print(kmeans.cluster_centers_)"
   ]
  },
  {
   "cell_type": "code",
   "execution_count": 11,
   "metadata": {
    "colab": {
     "base_uri": "https://localhost:8080/",
     "height": 281
    },
    "id": "m9tYqmGsbGJz",
    "outputId": "6448a432-bacd-475f-99c7-af6012270567"
   },
   "outputs": [
    {
     "data": {
      "image/png": "[encoded data removed]",
      "text/plain": [
       "<Figure size 432x288 with 1 Axes>"
      ]
     },
     "metadata": {
      "needs_background": "light"
     },
     "output_type": "display_data"
    }
   ],
   "source": [
    "plt.scatter(dataset.data[:, 0], dataset.target, c='magenta', marker='*')\n",
    "plt.scatter(kmeans.cluster_centers_[:, 0], kmeans.cluster_centers_[:, 1], c='blue', marker='+')\n",
    "plt.title('Data-points & centroids')\n",
    "plt.show()"
   ]
  },
  {
   "cell_type": "code",
   "execution_count": 12,
   "metadata": {
    "id": "RqY-XV7nbQbg"
   },
   "outputs": [],
   "source": [
    "from scipy.stats import mode\n",
    "label = np.zeros_like(prediction)\n",
    "for i in range(10):\n",
    "  mask = (prediction == i)\n",
    "  label[mask] = mode(dataset.target[mask])[0]"
   ]
  },
  {
   "cell_type": "code",
   "execution_count": 13,
   "metadata": {
    "colab": {
     "base_uri": "https://localhost:8080/",
     "height": 296
    },
    "id": "SiI7863_bTwF",
    "outputId": "e2c56e46-b8a4-42c3-be8e-6ce671aa9ea5"
   },
   "outputs": [
    {
     "data": {
      "text/plain": [
       "Text(91.68, 0.5, 'Predicted label')"
      ]
     },
     "execution_count": 13,
     "metadata": {},
     "output_type": "execute_result"
    },
    {
     "data": {
      "image/png": "[encoded data removed]",
      "text/plain": [
       "<Figure size 432x288 with 1 Axes>"
      ]
     },
     "metadata": {
      "needs_background": "light"
     },
     "output_type": "display_data"
    }
   ],
   "source": [
    "import seaborn as sns\n",
    "\n",
    "mat = confusion_matrix(dataset.target, label)\n",
    "ax = sns.heatmap(mat.T, square=True, annot=True, cbar=False, xticklabels=dataset.target_names, yticklabels=dataset.target_names)\n",
    "plt.xlabel('Actual label')\n",
    "plt.ylabel('Predicted label')"
   ]
  },
  {
   "cell_type": "code",
   "execution_count": 15,
   "metadata": {
    "colab": {
     "base_uri": "https://localhost:8080/"
    },
    "id": "Jg7nFC54bWaB",
    "outputId": "a01e942e-9542-43be-af3b-b8f73047c2eb"
   },
   "outputs": [
    {
     "name": "stdout",
     "output_type": "stream",
     "text": [
      "Accuracy Score:  0.8734622144112478\n"
     ]
    }
   ],
   "source": [
    "accuracy= accuracy_score(dataset.target, label)\n",
    "print(\"Accuracy Score: \",accuracy)"
   ]
  },
  {
   "cell_type": "code",
   "execution_count": null,
   "metadata": {},
   "outputs": [],
   "source": []
  }
 ],
 "metadata": {
  "colab": {
   "authorship_tag": "ABX9TyN45HkMUWuMY37lQLPz/Ux4",
   "collapsed_sections": [],
   "name": "090_Lab8_Kmeans_clustering_BreastCancer.ipynb",
   "provenance": []
  },
  "kernelspec": {
   "display_name": "Python 3",
   "language": "python",
   "name": "python3"
  },
  "language_info": {
   "codemirror_mode": {
    "name": "ipython",
    "version": 3
   },
   "file_extension": ".py",
   "mimetype": "text/x-python",
   "name": "python",
   "nbconvert_exporter": "python",
   "pygments_lexer": "ipython3",
   "version": "3.6.9"
  }
 },
 "nbformat": 4,
 "nbformat_minor": 1
}
