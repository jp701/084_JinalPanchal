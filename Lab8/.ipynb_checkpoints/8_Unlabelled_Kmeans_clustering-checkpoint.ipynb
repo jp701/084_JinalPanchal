{
 "cells": [
  {
   "cell_type": "markdown",
   "metadata": {
    "id": "MWFNmS0AWqOY"
   },
   "source": [
    "\n",
    "Generate data and convert it to a pandas DataFrame"
   ]
  },
  {
   "cell_type": "code",
   "execution_count": 2,
   "metadata": {
    "colab": {
     "base_uri": "https://localhost:8080/"
    },
    "id": "rcgm10wlWdQA",
    "outputId": "de19951d-35ef-4f0c-84fc-b05a17e40de4"
   },
   "outputs": [],
   "source": [
    "# Imports\n",
    "from sklearn.datasets import make_blobs\n",
    "\n",
    "X, _ = make_blobs(n_samples=100, centers=3, n_features=2, cluster_std=0.2, random_state=84)"
   ]
  },
  {
   "cell_type": "markdown",
   "metadata": {
    "id": "3v5yhs-SXX19"
   },
   "source": [
    "Basic Data Visualization"
   ]
  },
  {
   "cell_type": "code",
   "execution_count": 3,
   "metadata": {
    "colab": {
     "base_uri": "https://localhost:8080/",
     "height": 279
    },
    "id": "fnUUqVnAXYDz",
    "outputId": "0d1c0a44-4fe9-4393-9ec7-23fe13e21165"
   },
   "outputs": [
    {
     "data": {
      "image/png": "[encoded data removed]",
      "text/plain": [
       "<Figure size 432x288 with 1 Axes>"
      ]
     },
     "metadata": {
      "needs_background": "light"
     },
     "output_type": "display_data"
    }
   ],
   "source": [
    "# Scatter plot of the data points\n",
    "import matplotlib.pyplot as plt\n",
    "%matplotlib inline\n",
    "\n",
    "plt.scatter(X[:, 0], X[:, -1])\n",
    "plt.xlabel('X-axis')\n",
    "plt.ylabel('Y-axis')\n",
    "plt.show()"
   ]
  },
  {
   "cell_type": "markdown",
   "metadata": {
    "id": "Y7PFRvnfXxAs"
   },
   "source": [
    "Using scikit-learn to perform K-Means clustering"
   ]
  },
  {
   "cell_type": "code",
   "execution_count": 4,
   "metadata": {
    "id": "HxK_4Ae2Xwjb"
   },
   "outputs": [],
   "source": [
    "# Using scikit-learn to perform K-Means clustering\n",
    "from sklearn.cluster import KMeans\n",
    "\n",
    "# Specify the number of clusters (3) and fit the data X\n",
    "kmeans = KMeans(n_clusters=3, random_state=84).fit(X)"
   ]
  },
  {
   "cell_type": "markdown",
   "metadata": {
    "id": "mWQ_oRliX7Ov"
   },
   "source": [
    "Visualize and evaluate the results"
   ]
  },
  {
   "cell_type": "code",
   "execution_count": 5,
   "metadata": {
    "colab": {
     "base_uri": "https://localhost:8080/"
    },
    "id": "QfAPTq_VX7Xv",
    "outputId": "74ff7c92-bfe4-411c-ecbb-72485dbe9733"
   },
   "outputs": [
    {
     "data": {
      "text/plain": [
       "array([[ 9.83743724, -7.34557618],\n",
       "       [-9.14448282, -2.63134179],\n",
       "       [-5.18348985,  2.46634697]])"
      ]
     },
     "execution_count": 5,
     "metadata": {},
     "output_type": "execute_result"
    }
   ],
   "source": [
    "# Get the cluster centroids\n",
    "kmeans.cluster_centers_"
   ]
  },
  {
   "cell_type": "code",
   "execution_count": 6,
   "metadata": {
    "colab": {
     "base_uri": "https://localhost:8080/"
    },
    "id": "DE3C1IweZErh",
    "outputId": "57feb480-c4bd-4b33-939d-393671586019"
   },
   "outputs": [
    {
     "data": {
      "text/plain": [
       "array([1, 0, 2, 2, 0, 0, 1, 0, 1, 2, 0, 2, 1, 0, 1, 0, 2, 0, 0, 0, 1, 1,\n",
       "       1, 0, 2, 2, 2, 2, 1, 2, 0, 2, 0, 0, 1, 1, 1, 1, 0, 2, 2, 2, 0, 0,\n",
       "       0, 1, 1, 1, 0, 0, 2, 0, 1, 1, 0, 2, 1, 2, 1, 1, 0, 2, 2, 1, 0, 1,\n",
       "       2, 2, 0, 2, 0, 2, 1, 1, 1, 0, 1, 1, 1, 2, 2, 0, 0, 2, 2, 2, 1, 0,\n",
       "       2, 2, 2, 1, 0, 0, 0, 2, 1, 2, 1, 1])"
      ]
     },
     "execution_count": 6,
     "metadata": {},
     "output_type": "execute_result"
    }
   ],
   "source": [
    "# Get the cluster labels\n",
    "kmeans.labels_"
   ]
  },
  {
   "cell_type": "code",
   "execution_count": 8,
   "metadata": {
    "colab": {
     "base_uri": "https://localhost:8080/",
     "height": 281
    },
    "id": "yuyj-9NrZI1w",
    "outputId": "6ae577b6-a2e0-4012-a8c3-99bd6839000d"
   },
   "outputs": [
    {
     "data": {
      "image/png": "[encoded data removed]",
      "text/plain": [
       "<Figure size 432x288 with 1 Axes>"
      ]
     },
     "metadata": {
      "needs_background": "light"
     },
     "output_type": "display_data"
    }
   ],
   "source": [
    "# Plotting the cluster centers and the data points on a 2D plane\n",
    "plt.scatter(X[:, 0], X[:, -1], c='yellow', marker='*')\n",
    "plt.scatter(kmeans.cluster_centers_[:, 0], kmeans.cluster_centers_[:, 1], c='blue', marker='+')\n",
    "plt.title('Data-points & centroids')\n",
    "plt.show()"
   ]
  },
  {
   "cell_type": "code",
   "execution_count": 9,
   "metadata": {
    "colab": {
     "base_uri": "https://localhost:8080/"
    },
    "id": "lW0nKuYoZNLq",
    "outputId": "e32651a1-7c0b-43fe-8269-a7dab558d057"
   },
   "outputs": [
    {
     "name": "stdout",
     "output_type": "stream",
     "text": [
      "Silhouette Score:  0.9509523060224104\n"
     ]
    }
   ],
   "source": [
    "# Calculate silhouette_score\n",
    "from sklearn.metrics import silhouette_score\n",
    "\n",
    "print(\"Silhouette Score: \",silhouette_score(X, kmeans.labels_))"
   ]
  },
  {
   "cell_type": "markdown",
   "metadata": {
    "id": "aSc8hlVPZWdY"
   },
   "source": [
    "Determining the value of K using silhouette_score"
   ]
  },
  {
   "cell_type": "code",
   "execution_count": 14,
   "metadata": {},
   "outputs": [],
   "source": [
    "#!pip install yellowbrick"
   ]
  },
  {
   "cell_type": "code",
   "execution_count": 15,
   "metadata": {
    "colab": {
     "base_uri": "https://localhost:8080/",
     "height": 431
    },
    "id": "t7j_OMPcZWnK",
    "outputId": "b458b779-7c6b-468d-a478-99417d541c29"
   },
   "outputs": [
    {
     "data": {
      "image/png": "[encoded data removed]",
      "text/plain": [
       "<Figure size 576x396 with 1 Axes>"
      ]
     },
     "metadata": {},
     "output_type": "display_data"
    },
    {
     "data": {
      "text/plain": [
       "<AxesSubplot:title={'center':'Silhouette Score Elbow for KMeans Clustering'}, xlabel='k', ylabel='silhouette score'>"
      ]
     },
     "execution_count": 15,
     "metadata": {},
     "output_type": "execute_result"
    }
   ],
   "source": [
    "# Import the KElbowVisualizer method\n",
    "from yellowbrick.cluster import KElbowVisualizer\n",
    "\n",
    "# Instantiate a scikit-learn K-Means model\n",
    "model = KMeans(random_state=84)\n",
    "\n",
    "# Instantiate the KElbowVisualizer with the number of clusters and the metric\n",
    "visualizer = KElbowVisualizer(model, k=(2,6), metric='silhouette', timings=False)\n",
    "\n",
    "# Fit the data and visualize\n",
    "visualizer.fit(X)\n",
    "visualizer.poof()"
   ]
  },
  {
   "cell_type": "code",
   "execution_count": null,
   "metadata": {},
   "outputs": [],
   "source": []
  }
 ],
 "metadata": {
  "colab": {
   "authorship_tag": "ABX9TyNGVLgz6jBvlZnpzMq1W98l",
   "collapsed_sections": [],
   "name": "090_Lab8_Unlabelled_Kmeans_clustering.ipynb",
   "provenance": []
  },
  "kernelspec": {
   "display_name": "Python 3",
   "language": "python",
   "name": "python3"
  },
  "language_info": {
   "codemirror_mode": {
    "name": "ipython",
    "version": 3
   },
   "file_extension": ".py",
   "mimetype": "text/x-python",
   "name": "python",
   "nbconvert_exporter": "python",
   "pygments_lexer": "ipython3",
   "version": "3.6.9"
  }
 },
 "nbformat": 4,
 "nbformat_minor": 1
}
