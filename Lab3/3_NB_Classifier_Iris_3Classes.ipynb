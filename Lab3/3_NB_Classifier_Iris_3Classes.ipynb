{
 "cells": [
  {
   "cell_type": "code",
   "execution_count": 13,
   "metadata": {
    "colab": {},
    "colab_type": "code",
    "id": "Li0YgI3Mx9QO"
   },
   "outputs": [],
   "source": [
    "#Import scikit-learn dataset library\n",
    "from sklearn import datasets\n",
    "from sklearn.naive_bayes import GaussianNB\n",
    "\n",
    "#Load dataset\n",
    "iris = datasets.load_iris()"
   ]
  },
  {
   "cell_type": "code",
   "execution_count": 14,
   "metadata": {
    "colab": {
     "base_uri": "https://localhost:8080/",
     "height": 69
    },
    "colab_type": "code",
    "executionInfo": {
     "elapsed": 2142,
     "status": "ok",
     "timestamp": 1595225277204,
     "user": {
      "displayName": "Hariom Pandya",
      "photoUrl": "https://lh3.googleusercontent.com/a-/AOh14Gg8d7lqNqBxgfXVdhraKxXVYdefhGJQ6fR34vxZkw=s64",
      "userId": "14308869011554137018"
     },
     "user_tz": -330
    },
    "id": "wFNvVIhjx9Qq",
    "outputId": "fee1ba03-b925-4889-c421-76ba66433bf6"
   },
   "outputs": [
    {
     "name": "stdout",
     "output_type": "stream",
     "text": [
      "Features:  ['sepal length (cm)', 'sepal width (cm)', 'petal length (cm)', 'petal width (cm)']\n",
      "Labels:  ['setosa' 'versicolor' 'virginica']\n"
     ]
    },
    {
     "data": {
      "text/plain": [
       "(150, 4)"
      ]
     },
     "execution_count": 14,
     "metadata": {},
     "output_type": "execute_result"
    }
   ],
   "source": [
    "# print the names of the 13 features\n",
    "print(\"Features: \", iris.feature_names)\n",
    "\n",
    "# print the label type of wine(class_0, class_1, class_2)\n",
    "print(\"Labels: \", iris.target_names)\n",
    "\n",
    "# print data(feature)shape\n",
    "iris.data.shape"
   ]
  },
  {
   "cell_type": "code",
   "execution_count": 15,
   "metadata": {
    "colab": {},
    "colab_type": "code",
    "id": "3Ru1sRBzx9RQ"
   },
   "outputs": [],
   "source": [
    "#import the necessary module\n",
    "from sklearn.model_selection import train_test_split\n",
    "\n",
    "#split data set into train and test sets\n",
    "data_train, data_test, target_train, target_test = train_test_split(iris.data,\n",
    "                        iris.target, test_size = 0.30, random_state = 10)"
   ]
  },
  {
   "cell_type": "code",
   "execution_count": 16,
   "metadata": {
    "colab": {},
    "colab_type": "code",
    "id": "A3p9iuf4x9Rs"
   },
   "outputs": [],
   "source": [
    "import numpy as np\n",
    "gnb = GaussianNB()\n",
    "\n",
    "#Train the model using the training sets\n",
    "gnb.fit(data_train, target_train)\n",
    "\n",
    "#Predict the response for test dataset\n",
    "target_pred = gnb.predict(data_test)"
   ]
  },
  {
   "cell_type": "code",
   "execution_count": 17,
   "metadata": {
    "colab": {
     "base_uri": "https://localhost:8080/",
     "height": 34
    },
    "colab_type": "code",
    "executionInfo": {
     "elapsed": 2109,
     "status": "ok",
     "timestamp": 1595225277213,
     "user": {
      "displayName": "Hariom Pandya",
      "photoUrl": "https://lh3.googleusercontent.com/a-/AOh14Gg8d7lqNqBxgfXVdhraKxXVYdefhGJQ6fR34vxZkw=s64",
      "userId": "14308869011554137018"
     },
     "user_tz": -330
    },
    "id": "mZu4XlvEx9SB",
    "outputId": "539931c2-c050-421d-c6c3-a5ff45af1dba"
   },
   "outputs": [
    {
     "name": "stdout",
     "output_type": "stream",
     "text": [
      "Accuracy: 1.0\n"
     ]
    }
   ],
   "source": [
    "#Import scikit-learn metrics module for accuracy calculation\n",
    "from sklearn import metrics\n",
    "\n",
    "# Model Accuracy, how often is the classifier correct?\n",
    "print(\"Accuracy:\",metrics.accuracy_score(target_test, target_pred))"
   ]
  },
  {
   "cell_type": "code",
   "execution_count": 18,
   "metadata": {
    "colab": {
     "base_uri": "https://localhost:8080/",
     "height": 69
    },
    "colab_type": "code",
    "executionInfo": {
     "elapsed": 1704,
     "status": "ok",
     "timestamp": 1595225278737,
     "user": {
      "displayName": "Hariom Pandya",
      "photoUrl": "https://lh3.googleusercontent.com/a-/AOh14Gg8d7lqNqBxgfXVdhraKxXVYdefhGJQ6fR34vxZkw=s64",
      "userId": "14308869011554137018"
     },
     "user_tz": -330
    },
    "id": "jIbxl4Vgx9SX",
    "outputId": "2cf4e6fc-2208-4009-b9da-32d2466a5c3b"
   },
   "outputs": [
    {
     "data": {
      "text/plain": [
       "array([[14,  0,  0],\n",
       "       [ 0, 17,  0],\n",
       "       [ 0,  0, 14]], dtype=int64)"
      ]
     },
     "execution_count": 18,
     "metadata": {},
     "output_type": "execute_result"
    }
   ],
   "source": [
    "#Import confusion_matrix from scikit-learn metrics module for confusion_matrix\n",
    "from sklearn.metrics import confusion_matrix\n",
    "confusion_matrix(target_test, target_pred)"
   ]
  },
  {
   "cell_type": "code",
   "execution_count": 19,
   "metadata": {
    "colab": {
     "base_uri": "https://localhost:8080/",
     "height": 52
    },
    "colab_type": "code",
    "executionInfo": {
     "elapsed": 896,
     "status": "ok",
     "timestamp": 1595225280586,
     "user": {
      "displayName": "Hariom Pandya",
      "photoUrl": "https://lh3.googleusercontent.com/a-/AOh14Gg8d7lqNqBxgfXVdhraKxXVYdefhGJQ6fR34vxZkw=s64",
      "userId": "14308869011554137018"
     },
     "user_tz": -330
    },
    "id": "H9QL1sbVx9Ss",
    "outputId": "6d864321-1d01-4d2f-c379-2624bb2a436e"
   },
   "outputs": [
    {
     "name": "stdout",
     "output_type": "stream",
     "text": [
      "precision: [1. 1. 1.]\n",
      "recall: [1. 1. 1.]\n"
     ]
    }
   ],
   "source": [
    "from sklearn.metrics import precision_score\n",
    "from sklearn.metrics import recall_score\n",
    "\n",
    "precision = precision_score(target_test, target_pred, average=None)\n",
    "recall = recall_score(target_test, target_pred, average=None)\n",
    "\n",
    "print('precision: {}'.format(precision))\n",
    "print('recall: {}'.format(recall))"
   ]
  },
  {
   "cell_type": "markdown",
   "metadata": {
    "colab_type": "text",
    "id": "tXl-F2zM5TIX"
   },
   "source": [
    "**Exercise:**\n",
    "\n",
    "**1) 1<=Rollnumber<=25:**\n",
    "  #Task 1: Try the algo on Dataset1 - OneHotEncoding of features: and Train test Division 70%-30%\n",
    "\n",
    "  #Task 2: Apply algorithm on digits dataset - LabelEncoding of features: and Train test Division 80%-20%\n",
    "\n",
    "**2) 26<=Rollnumber<=50:**\n",
    "  #Task 1: Try the algo on Dataset1 - LabelEncoding of features: and Train test Division 80%-20%\n",
    "\n",
    "   #Task 2: Apply algorithm on breast cancer wisconsin dataset - One Hot Encoding of features: and Train test Division 60%-40%\n",
    "\n",
    "**3) 51<=Rollnumber<=75:**\n",
    "  #Task 1: Try the algo on Dataset2 - LabelEncoding of features: and Train test Division 90%-10%\n",
    "\n",
    "  #Task 2: Apply algorithm on digits dataset - One Hot Encoding of features: and Train test Division 65%-35%\n",
    "\n",
    "**4) 76<=Rollnumber<=100:**\n",
    "  #Task 1: Try the algo on Dataset2 - OneHotEncoding of features: and Train test Division 75%-25%\n",
    "  #Task 2: Apply algorithm on wine dataset - LabelEncoding of features: and Train test Division 80%-20%\n",
    "\n",
    "**5) 101<=Rollnumber<=125:**\n",
    "  #Task 1: Try the algo on Dataset3 - OneHotEncoding of features:and Train test Division 85%-15%\n",
    " #Task 2: Apply algorithm on wine dataset - LabelEncoding of features: and Train test Division 66%-34%\n",
    "\n",
    "**6) 126<=Rollnumber + All with No RollNumbers:**\n",
    "  #Task 1: Try the algo on Dataset3 - LabelEncoding of features:and Train test Division 95%-5%\n",
    "  \n",
    " #Task 2: Apply algorithm on breast cancer wisconsin dataset - One Hot Encoding of features: and Train test Division 50%-50%\n",
    "\n",
    "\n",
    "\n",
    "**Instruction for Task-1 & 2:**\n",
    "\n",
    "i) Set Random state of model equals to your roll number (or last 2 digit of your id -if you don't have roll number)\n",
    "\n",
    "\n",
    "**Questions: For Task - 1**\n",
    "\n",
    "(1) What will be the value of Play, if Outlook is ’Rainy’, Temperature is ’Mild’, Humidity =’Normal’, and Wind = ’False’?\n",
    "\n",
    "(2) What will be the value of Play, if Outlook is ’Sunny’, Temeprature is ’Cool’, Humidity =’High’, and Wind = ’True’?\n",
    "\n",
    "(3) Accuracy , precision and recall of both Models?\n"
   ]
  },
  {
   "cell_type": "markdown",
   "metadata": {
    "colab": {},
    "colab_type": "code",
    "id": "CjkVcUZ_x9S6"
   },
   "source": [
    "### #Task 1: Try the algo on Dataset2 - OneHotEncoding of features: and Train test Division 75%-25% "
   ]
  },
  {
   "cell_type": "code",
   "execution_count": 87,
   "metadata": {},
   "outputs": [],
   "source": [
    "import numpy as np\n",
    "import pandas as pd\n",
    "from sklearn.preprocessing import OneHotEncoder,LabelEncoder\n",
    "from sklearn.model_selection import train_test_split\n",
    "from sklearn import metrics\n",
    "from sklearn.metrics import confusion_matrix\n",
    "from sklearn.metrics import precision_score\n",
    "from sklearn.metrics import recall_score"
   ]
  },
  {
   "cell_type": "code",
   "execution_count": 88,
   "metadata": {},
   "outputs": [
    {
     "name": "stdout",
     "output_type": "stream",
     "text": [
      "\n",
      "\n",
      "Data: \n",
      "    Outlook Temp Wind Humidity Class\n",
      "0        R    H    F   Normal     N\n",
      "1        R    H    T     High     N\n",
      "2        O    H    F   Normal     Y\n",
      "3        S    M    F   Normal     N\n",
      "4        S    M    F   Normal     Y\n",
      "5        S    M    T      Low     Y\n",
      "6        O    C    T   Normal     Y\n",
      "7        R    C    F   Normal     Y\n",
      "8        R    C    F      Low     Y\n",
      "9        S    M    F     High     Y\n",
      "10       R    M    T     High     Y\n",
      "11       O    M    T      Low     Y\n",
      "12       O    H    F   Normal     Y\n",
      "13       S    M    T   Normal     N\n"
     ]
    }
   ],
   "source": [
    "dataset= pd.read_csv('PracticeDataSets/Dataset2.csv')\n",
    "print(\"\\n\\nData: \\n\",dataset)"
   ]
  },
  {
   "cell_type": "code",
   "execution_count": 91,
   "metadata": {},
   "outputs": [
    {
     "name": "stdout",
     "output_type": "stream",
     "text": [
      "One Hot Encoder:\n",
      "\n",
      "     Outlook_O  Outlook_R  Outlook_S  Temp_C  Temp_H  Temp_M  Humidity_High  \\\n",
      "0           0          1          0       0       1       0              0   \n",
      "1           0          1          0       0       1       0              1   \n",
      "2           1          0          0       0       1       0              0   \n",
      "3           0          0          1       0       0       1              0   \n",
      "4           0          0          1       0       0       1              0   \n",
      "5           0          0          1       0       0       1              0   \n",
      "6           1          0          0       1       0       0              0   \n",
      "7           0          1          0       1       0       0              0   \n",
      "8           0          1          0       1       0       0              0   \n",
      "9           0          0          1       0       0       1              1   \n",
      "10          0          1          0       0       0       1              1   \n",
      "11          1          0          0       0       0       1              0   \n",
      "12          1          0          0       0       1       0              0   \n",
      "13          0          0          1       0       0       1              0   \n",
      "\n",
      "    Humidity_Low  Humidity_Normal  Wind_F  Wind_T  Class_Y  \n",
      "0              0                1       1       0        0  \n",
      "1              0                0       0       1        0  \n",
      "2              0                1       1       0        1  \n",
      "3              0                1       1       0        0  \n",
      "4              0                1       1       0        1  \n",
      "5              1                0       0       1        1  \n",
      "6              0                1       0       1        1  \n",
      "7              0                1       1       0        1  \n",
      "8              1                0       1       0        1  \n",
      "9              0                0       1       0        1  \n",
      "10             0                0       0       1        1  \n",
      "11             1                0       0       1        1  \n",
      "12             0                1       1       0        1  \n",
      "13             0                1       0       1        0  \n"
     ]
    }
   ],
   "source": [
    "data= pd.get_dummies(dataset,columns=['Outlook','Temp','Humidity','Wind','Class'])\n",
    "data= data.drop(['Class_N'],axis=1)\n",
    "print(\"One Hot Encoder:\\n\\n\",data)"
   ]
  },
  {
   "cell_type": "code",
   "execution_count": 92,
   "metadata": {},
   "outputs": [],
   "source": [
    "#train-test split data 75%-25%\n",
    "X= data.iloc[:,:-1]\n",
    "Y= data.iloc[:,-1]\n",
    "data_train, data_test, target_train, target_test = train_test_split(X, Y, test_size = 0.25, random_state = 84)"
   ]
  },
  {
   "cell_type": "code",
   "execution_count": 93,
   "metadata": {},
   "outputs": [],
   "source": [
    "model = GaussianNB()\n",
    "\n",
    "#Train the model using the training sets\n",
    "model.fit(data_train, target_train)\n",
    "\n",
    "#Predict the response for test dataset\n",
    "target_pred =model.predict(data_test)"
   ]
  },
  {
   "cell_type": "code",
   "execution_count": 94,
   "metadata": {},
   "outputs": [
    {
     "name": "stdout",
     "output_type": "stream",
     "text": [
      "Accuracy: 0.5\n"
     ]
    }
   ],
   "source": [
    "# Model Accuracy, how often is the classifier correct?\n",
    "print(\"Accuracy:\",metrics.accuracy_score(target_test, target_pred))"
   ]
  },
  {
   "cell_type": "code",
   "execution_count": 95,
   "metadata": {},
   "outputs": [
    {
     "data": {
      "text/plain": [
       "array([[0, 2],\n",
       "       [0, 2]], dtype=int64)"
      ]
     },
     "execution_count": 95,
     "metadata": {},
     "output_type": "execute_result"
    }
   ],
   "source": [
    "confusion_matrix(target_test, target_pred)"
   ]
  },
  {
   "cell_type": "code",
   "execution_count": 96,
   "metadata": {},
   "outputs": [
    {
     "name": "stdout",
     "output_type": "stream",
     "text": [
      "precision: [0.  0.5]\n",
      "recall: [0. 1.]\n"
     ]
    },
    {
     "name": "stderr",
     "output_type": "stream",
     "text": [
      "/usr/local/lib/python3.6/dist-packages/sklearn/metrics/_classification.py:1245: UndefinedMetricWarning: Precision is ill-defined and being set to 0.0 in labels with no predicted samples. Use `zero_division` parameter to control this behavior.\n",
      "  _warn_prf(average, modifier, msg_start, len(result))\n"
     ]
    }
   ],
   "source": [
    "precision = precision_score(target_test, target_pred, average=None)\n",
    "recall = recall_score(target_test, target_pred, average=None)\n",
    "\n",
    "print(f'precision: {precision}')\n",
    "print(f'recall: {recall}')"
   ]
  },
  {
   "cell_type": "code",
   "execution_count": 97,
   "metadata": {},
   "outputs": [
    {
     "name": "stdout",
     "output_type": "stream",
     "text": [
      "Play: [1]\n",
      "Play: [1]\n"
     ]
    }
   ],
   "source": [
    "#Outlook is ’Rainy’, Temperature is ’Mild’, Humidity =’Normal’, and Wind = ’False’?\n",
    "output1= model.predict([[0,1,0,0,0,1,0,0,1,1,0]])\n",
    "print(f'Play: {output1}')\n",
    "\n",
    "#Outlook is ’Sunny’, Temeprature is ’Cool’, Humidity =’High’, and Wind = ’True\n",
    "output2= model.predict([[0,0,1,1,0,0,1,0,0,0,1]])\n",
    "print(f'Play: {output2}')"
   ]
  },
  {
   "cell_type": "markdown",
   "metadata": {},
   "source": [
    "### Task 2: Apply algorithm on wine dataset - LabelEncoding of features: and Train test Division 80%-20%"
   ]
  },
  {
   "cell_type": "code",
   "execution_count": 98,
   "metadata": {},
   "outputs": [],
   "source": [
    "from sklearn import datasets\n",
    "from sklearn.naive_bayes import GaussianNB\n",
    "wine= datasets.load_wine()\n",
    "#print(wine)"
   ]
  },
  {
   "cell_type": "code",
   "execution_count": 99,
   "metadata": {},
   "outputs": [
    {
     "name": "stdout",
     "output_type": "stream",
     "text": [
      "Features:  ['alcohol', 'malic_acid', 'ash', 'alcalinity_of_ash', 'magnesium', 'total_phenols', 'flavanoids', 'nonflavanoid_phenols', 'proanthocyanins', 'color_intensity', 'hue', 'od280/od315_of_diluted_wines', 'proline']\n",
      "Labels:  ['class_0' 'class_1' 'class_2']\n",
      "\n",
      "Data Shape:  (178, 13)\n",
      "\n",
      "Target Shape: (178,)\n"
     ]
    }
   ],
   "source": [
    "# print the names of the features\n",
    "print(\"Features: \", wine.feature_names)\n",
    "\n",
    "# print the label type of wine(class_0, class_1, class_2)\n",
    "print(\"Labels: \", wine.target_names)\n",
    "\n",
    "# print data(feature)shape & target shape\n",
    "print(\"\\nData Shape: \",wine.data.shape)\n",
    "print(\"\\nTarget Shape:\",wine.target.shape)"
   ]
  },
  {
   "cell_type": "code",
   "execution_count": 100,
   "metadata": {},
   "outputs": [
    {
     "data": {
      "text/plain": [
       "'label_encoder = LabelEncoder()\\nX= wine.data\\nY= wine.target\\nfor i in wine.feature_names:\\n    print(f\"\\n\\nHeading :- {i}\")\\n    #print(list(main_data[data_heading]))\\n    dummy = pd.get_dummies(X[i])\\n    #print(\"\\n\\nDummy :\\n\",dummy)\\n    X = X.drop([i],axis=1)\\n    X = pd.concat([X,dummy],axis=1)'"
      ]
     },
     "execution_count": 100,
     "metadata": {},
     "output_type": "execute_result"
    }
   ],
   "source": [
    "# labelEncoder Object\n",
    "\"\"\"label_encoder = LabelEncoder()\n",
    "X= wine.data\n",
    "Y= wine.target\n",
    "for i in wine.feature_names:\n",
    "    print(f\"\\n\\nHeading :- {i}\")\n",
    "    #print(list(main_data[data_heading]))\n",
    "    dummy = pd.get_dummies(X[i])\n",
    "    #print(\"\\n\\nDummy :\\n\",dummy)\n",
    "    X = X.drop([i],axis=1)\n",
    "    X = pd.concat([X,dummy],axis=1)\"\"\""
   ]
  },
  {
   "cell_type": "code",
   "execution_count": 105,
   "metadata": {},
   "outputs": [],
   "source": [
    "#train-test split 80%-20%\n",
    "data_train, data_test, target_train, target_test = train_test_split(wine.data, wine.target, test_size = 0.20, random_state = 84)"
   ]
  },
  {
   "cell_type": "code",
   "execution_count": 106,
   "metadata": {},
   "outputs": [],
   "source": [
    "#train the gaussian naive bayes model & make predictions for test data\n",
    "gnb= GaussianNB()\n",
    "model.fit(data_train, target_train)\n",
    "target_pred= model.predict(data_test)"
   ]
  },
  {
   "cell_type": "code",
   "execution_count": 107,
   "metadata": {},
   "outputs": [
    {
     "name": "stdout",
     "output_type": "stream",
     "text": [
      "Accuracy: 1.0\n"
     ]
    },
    {
     "data": {
      "text/plain": [
       "array([[12,  0,  0],\n",
       "       [ 0, 14,  0],\n",
       "       [ 0,  0, 10]], dtype=int64)"
      ]
     },
     "execution_count": 107,
     "metadata": {},
     "output_type": "execute_result"
    }
   ],
   "source": [
    "# Model Accuracy, how often is the classifier correct?\n",
    "print(\"Accuracy:\",metrics.accuracy_score(target_test, target_pred))\n",
    "confusion_matrix(target_test, target_pred)"
   ]
  },
  {
   "cell_type": "code",
   "execution_count": 108,
   "metadata": {},
   "outputs": [
    {
     "name": "stdout",
     "output_type": "stream",
     "text": [
      "precision: [1. 1. 1.]\n",
      "recall: [1. 1. 1.]\n"
     ]
    }
   ],
   "source": [
    "precision = precision_score(target_test, target_pred, average=None)\n",
    "recall = recall_score(target_test, target_pred, average=None)\n",
    "\n",
    "print(f'precision: {precision}')\n",
    "print(f'recall: {recall}')"
   ]
  },
  {
   "cell_type": "code",
   "execution_count": null,
   "metadata": {},
   "outputs": [],
   "source": []
  },
  {
   "cell_type": "code",
   "execution_count": null,
   "metadata": {},
   "outputs": [],
   "source": []
  }
 ],
 "metadata": {
  "colab": {
   "name": "NB_Classifier_Iris_3Classes.ipynb",
   "provenance": []
  },
  "kernelspec": {
   "display_name": "Python 3",
   "language": "python",
   "name": "python3"
  },
  "language_info": {
   "codemirror_mode": {
    "name": "ipython",
    "version": 3
   },
   "file_extension": ".py",
   "mimetype": "text/x-python",
   "name": "python",
   "nbconvert_exporter": "python",
   "pygments_lexer": "ipython3",
   "version": "3.6.9"
  }
 },
 "nbformat": 4,
 "nbformat_minor": 1
}
