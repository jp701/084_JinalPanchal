{
 "cells": [
  {
   "cell_type": "markdown",
   "metadata": {
    "id": "LBRfUAeJuS6Z"
   },
   "source": [
    "**AIM: Perform SVM with PCA operations on Iris dataset.**"
   ]
  },
  {
   "cell_type": "code",
   "execution_count": 1,
   "metadata": {
    "id": "KCmeJHbFuQd7"
   },
   "outputs": [],
   "source": [
    "import numpy as np\n",
    "import matplotlib.pyplot as plt\n",
    "import pandas as pd"
   ]
  },
  {
   "cell_type": "code",
   "execution_count": 2,
   "metadata": {
    "colab": {
     "base_uri": "https://localhost:8080/"
    },
    "id": "_n1R3nKVv-AL",
    "outputId": "86fa5d3e-f611-4e7e-ab7e-888e01b564c5"
   },
   "outputs": [
    {
     "data": {
      "text/plain": [
       "array(['setosa', 'versicolor', 'virginica'], dtype='<U10')"
      ]
     },
     "execution_count": 2,
     "metadata": {},
     "output_type": "execute_result"
    }
   ],
   "source": [
    "#load datasets\n",
    "from sklearn import datasets\n",
    "iris=datasets.load_iris()\n",
    "iris.target_names"
   ]
  },
  {
   "cell_type": "code",
   "execution_count": 3,
   "metadata": {
    "colab": {
     "base_uri": "https://localhost:8080/"
    },
    "id": "o-3ZcqnRwNO6",
    "outputId": "8bcd9975-3e2b-4c51-980e-e128e32718bb"
   },
   "outputs": [
    {
     "name": "stdout",
     "output_type": "stream",
     "text": [
      "(120, 4) (30, 4)\n"
     ]
    }
   ],
   "source": [
    "from sklearn.model_selection import train_test_split\n",
    "X_train, X_test, Y_train, Y_test = train_test_split(iris.data,iris.target, random_state=84,test_size=0.2)\n",
    "\n",
    "print(X_train.shape, X_test.shape)"
   ]
  },
  {
   "cell_type": "code",
   "execution_count": 4,
   "metadata": {
    "colab": {
     "base_uri": "https://localhost:8080/"
    },
    "id": "fEJQx3PywYo7",
    "outputId": "b56d25c8-3746-4ad3-fa0d-3b961647c319"
   },
   "outputs": [
    {
     "data": {
      "text/plain": [
       "PCA(n_components=2, whiten=True)"
      ]
     },
     "execution_count": 4,
     "metadata": {},
     "output_type": "execute_result"
    }
   ],
   "source": [
    "from sklearn import svm,decomposition\n",
    "pca=decomposition.PCA(n_components=2,whiten=True)\n",
    "pca.fit(X_train)"
   ]
  },
  {
   "cell_type": "code",
   "execution_count": 5,
   "metadata": {
    "colab": {
     "base_uri": "https://localhost:8080/"
    },
    "id": "bDreQL2TxlUq",
    "outputId": "7bfeb969-799a-43e9-faba-8119ebdffc26"
   },
   "outputs": [
    {
     "name": "stdout",
     "output_type": "stream",
     "text": [
      "(2, 4)\n"
     ]
    }
   ],
   "source": [
    "print(pca.components_.shape)"
   ]
  },
  {
   "cell_type": "code",
   "execution_count": 7,
   "metadata": {
    "colab": {
     "base_uri": "https://localhost:8080/"
    },
    "id": "9NKTaxT9ydqD",
    "outputId": "dbd14f5a-2521-4428-b1f6-1e876fe68b46"
   },
   "outputs": [
    {
     "name": "stdout",
     "output_type": "stream",
     "text": [
      "Training data:  (120, 2)\n",
      "Testing data:  (30, 2)\n"
     ]
    }
   ],
   "source": [
    "#apply dimensionality reduction on X_train and X_test\n",
    "pca_X_train=pca.transform(X_train)\n",
    "pca_X_test=pca.transform(X_test)\n",
    "print(\"Training data: \",pca_X_train.shape)\n",
    "print(\"Testing data: \",pca_X_test.shape)"
   ]
  },
  {
   "cell_type": "code",
   "execution_count": 8,
   "metadata": {
    "colab": {
     "base_uri": "https://localhost:8080/"
    },
    "id": "tZaqU_2OzE5w",
    "outputId": "b3225195-b4e9-4f64-d2ac-440c2f58b7f8"
   },
   "outputs": [
    {
     "data": {
      "text/plain": [
       "SVC(C=3.0, gamma=0.005, random_state=84)"
      ]
     },
     "execution_count": 8,
     "metadata": {},
     "output_type": "execute_result"
    }
   ],
   "source": [
    "from sklearn import svm\n",
    "clf = svm.SVC(C=3.,gamma=0.005, random_state=84)\n",
    "clf.fit(pca_X_train, Y_train)\n"
   ]
  },
  {
   "cell_type": "code",
   "execution_count": 9,
   "metadata": {
    "colab": {
     "base_uri": "https://localhost:8080/"
    },
    "id": "LXRQgmBp1Bjv",
    "outputId": "4df402f8-5ec1-4577-a04d-b3670437f48b"
   },
   "outputs": [
    {
     "name": "stdout",
     "output_type": "stream",
     "text": [
      "[0 1 2 0 0 0 1 0 0 2 2 1 1 0 0 2 0 1 1 1 0 0 2 1 0 2 1 2 2 2]\n"
     ]
    }
   ],
   "source": [
    "y_pred=clf.predict(pca_X_test)\n",
    "print(y_pred)"
   ]
  },
  {
   "cell_type": "code",
   "execution_count": 10,
   "metadata": {
    "colab": {
     "base_uri": "https://localhost:8080/"
    },
    "id": "F8wC7LvJ1ZSe",
    "outputId": "eaf54856-8586-4813-bdae-b38742083b93"
   },
   "outputs": [
    {
     "name": "stdout",
     "output_type": "stream",
     "text": [
      "Accuracy: 0.8\n",
      "Precision: 0.8592592592592593\n",
      "Recall: 0.8\n"
     ]
    }
   ],
   "source": [
    "from sklearn import metrics\n",
    "# Model Accuracy: how often is the classifier correct?\n",
    "print(\"Accuracy:\",metrics.accuracy_score(Y_test, y_pred))\n",
    "# Model Precision: what percentage of positive tuples are labeled as such?\n",
    "print(\"Precision:\",metrics.precision_score(Y_test, y_pred,average='weighted'))\n",
    "# Model Recall: what percentage of positive tuples are labelled as such?\n",
    "print(\"Recall:\",metrics.recall_score(Y_test, y_pred,average='weighted'))"
   ]
  },
  {
   "cell_type": "code",
   "execution_count": 11,
   "metadata": {
    "colab": {
     "base_uri": "https://localhost:8080/"
    },
    "id": "RENreL482HOW",
    "outputId": "b2e36fa6-edf0-41a7-8812-88b7e5fdcb6d"
   },
   "outputs": [
    {
     "name": "stdout",
     "output_type": "stream",
     "text": [
      "              precision    recall  f1-score   support\n",
      "\n",
      "           0       1.00      1.00      1.00        12\n",
      "           1       0.44      0.80      0.57         5\n",
      "           2       0.89      0.62      0.73        13\n",
      "\n",
      "    accuracy                           0.80        30\n",
      "   macro avg       0.78      0.81      0.77        30\n",
      "weighted avg       0.86      0.80      0.81        30\n",
      "\n"
     ]
    }
   ],
   "source": [
    "print(metrics.classification_report(Y_test, y_pred))"
   ]
  },
  {
   "cell_type": "code",
   "execution_count": 12,
   "metadata": {
    "colab": {
     "base_uri": "https://localhost:8080/",
     "height": 241
    },
    "id": "Wyi0ViEK2x9z",
    "outputId": "fb3203e4-f7ce-422f-c4f2-3d200af58f2f"
   },
   "outputs": [
    {
     "data": {
      "image/png": "[encoded data removed]",
      "text/plain": [
       "<Figure size 216x216 with 2 Axes>"
      ]
     },
     "metadata": {
      "needs_background": "light"
     },
     "output_type": "display_data"
    }
   ],
   "source": [
    "import seaborn as sb\n",
    "cf_mat=metrics.confusion_matrix(y_pred, Y_test)\n",
    "plt.subplots(figsize=(3, 3))\n",
    "sb.heatmap(cf_mat, annot = True, fmt = 'g')\n",
    "plt.xlabel(\"Predicted lables\")\n",
    "plt.ylabel(\"Actual labels\")\n",
    "plt.title(\"Confusion Matrix\")\n",
    "plt.show()"
   ]
  },
  {
   "cell_type": "code",
   "execution_count": null,
   "metadata": {},
   "outputs": [],
   "source": []
  }
 ],
 "metadata": {
  "colab": {
   "authorship_tag": "ABX9TyNTjJVScsVrtp0rlVWszqms",
   "name": "122_Lab11_iris.ipynb",
   "provenance": []
  },
  "kernelspec": {
   "display_name": "Python 3",
   "language": "python",
   "name": "python3"
  },
  "language_info": {
   "codemirror_mode": {
    "name": "ipython",
    "version": 3
   },
   "file_extension": ".py",
   "mimetype": "text/x-python",
   "name": "python",
   "nbconvert_exporter": "python",
   "pygments_lexer": "ipython3",
   "version": "3.6.9"
  }
 },
 "nbformat": 4,
 "nbformat_minor": 1
}
